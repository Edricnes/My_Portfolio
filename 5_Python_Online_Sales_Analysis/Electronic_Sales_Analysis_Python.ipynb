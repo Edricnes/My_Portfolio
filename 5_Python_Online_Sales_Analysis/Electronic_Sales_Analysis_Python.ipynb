{
 "cells": [
  {
   "cell_type": "markdown",
   "id": "f5e86852-799b-44ad-8ab8-4484a3cb46f6",
   "metadata": {},
   "source": [
    "## Online Electronic Sales Analysis with Python"
   ]
  },
  {
   "cell_type": "markdown",
   "id": "b573baa9-daca-4b03-8221-54113fb877da",
   "metadata": {},
   "source": [
    "<img src=\"https://www.ionos.co.uk/digitalguide/fileadmin/DigitalGuide/Teaser/online-shopping-t.jpg\" width=\"700\" align=\"center\" />"
   ]
  },
  {
   "cell_type": "markdown",
   "id": "427a3184-9d73-451b-9506-3933afa16308",
   "metadata": {},
   "source": [
    "Hello again, today we'll be looking at sales dataset analysis which may be relatable to a lot of you folks. <br>\n",
    "As always, I'll make the notebook with carefully planned out steps and explanations as well. My goal is so that everyone can understand and follow along on this journey! Even to those with no analytics experience whatsoever.<br>\n",
    "Instead of going on blindly, we'll stick to 5 business questions:<br>\n",
    "1. What month has the highest sales? And how much money was earned? <br>\n",
    "2. What city had the highest sales revenue?<br>\n",
    "3. What is the ideal time of the day (or time range) to push advertisements?<br>\n",
    "4. What are the most often 'sold together' products?<br>\n",
    "5. What's the top selling product? And why?<br>\n",
    "Without further ado, let's start!"
   ]
  },
  {
   "cell_type": "markdown",
   "id": "41eb8747-1b4e-4ada-8325-49a707b7eb36",
   "metadata": {},
   "source": [
    "Disclaimer : if you notice that the the lines of code don't seem somewhat the most efficient, that's because I wanted to showcase my knowledge of handling problems in different ways, just so you know!"
   ]
  },
  {
   "cell_type": "markdown",
   "id": "03e3c2b6-be42-4a40-ae13-8c21c78cee46",
   "metadata": {
    "tags": []
   },
   "source": [
    "#### 1. Setting up the environment and the data"
   ]
  },
  {
   "cell_type": "code",
   "execution_count": 2,
   "id": "293080ed-51aa-4623-b478-a1ad186f6e5e",
   "metadata": {},
   "outputs": [],
   "source": [
    "import pandas as pd\n",
    "import numpy as np\n",
    "import matplotlib.pyplot as plt\n",
    "import seaborn as sns\n",
    "import os"
   ]
  },
  {
   "cell_type": "markdown",
   "id": "6ab64c4c-2520-4244-bfd3-680027ad18e7",
   "metadata": {
    "tags": []
   },
   "source": [
    "#### 2. Reading up a single data file"
   ]
  },
  {
   "cell_type": "code",
   "execution_count": 14,
   "id": "0fd64c5a-d801-47f3-9cf3-e366af154820",
   "metadata": {},
   "outputs": [
    {
     "data": {
      "text/html": [
       "<div>\n",
       "<style scoped>\n",
       "    .dataframe tbody tr th:only-of-type {\n",
       "        vertical-align: middle;\n",
       "    }\n",
       "\n",
       "    .dataframe tbody tr th {\n",
       "        vertical-align: top;\n",
       "    }\n",
       "\n",
       "    .dataframe thead th {\n",
       "        text-align: right;\n",
       "    }\n",
       "</style>\n",
       "<table border=\"1\" class=\"dataframe\">\n",
       "  <thead>\n",
       "    <tr style=\"text-align: right;\">\n",
       "      <th></th>\n",
       "      <th>Order ID</th>\n",
       "      <th>Product</th>\n",
       "      <th>Quantity Ordered</th>\n",
       "      <th>Price Each</th>\n",
       "      <th>Order Date</th>\n",
       "      <th>Purchase Address</th>\n",
       "    </tr>\n",
       "  </thead>\n",
       "  <tbody>\n",
       "    <tr>\n",
       "      <th>0</th>\n",
       "      <td>176558</td>\n",
       "      <td>USB-C Charging Cable</td>\n",
       "      <td>2</td>\n",
       "      <td>11.95</td>\n",
       "      <td>04/19/19 08:46</td>\n",
       "      <td>917 1st St, Dallas, TX 75001</td>\n",
       "    </tr>\n",
       "    <tr>\n",
       "      <th>1</th>\n",
       "      <td>NaN</td>\n",
       "      <td>NaN</td>\n",
       "      <td>NaN</td>\n",
       "      <td>NaN</td>\n",
       "      <td>NaN</td>\n",
       "      <td>NaN</td>\n",
       "    </tr>\n",
       "    <tr>\n",
       "      <th>2</th>\n",
       "      <td>176559</td>\n",
       "      <td>Bose SoundSport Headphones</td>\n",
       "      <td>1</td>\n",
       "      <td>99.99</td>\n",
       "      <td>04/07/19 22:30</td>\n",
       "      <td>682 Chestnut St, Boston, MA 02215</td>\n",
       "    </tr>\n",
       "    <tr>\n",
       "      <th>3</th>\n",
       "      <td>176560</td>\n",
       "      <td>Google Phone</td>\n",
       "      <td>1</td>\n",
       "      <td>600</td>\n",
       "      <td>04/12/19 14:38</td>\n",
       "      <td>669 Spruce St, Los Angeles, CA 90001</td>\n",
       "    </tr>\n",
       "    <tr>\n",
       "      <th>4</th>\n",
       "      <td>176560</td>\n",
       "      <td>Wired Headphones</td>\n",
       "      <td>1</td>\n",
       "      <td>11.99</td>\n",
       "      <td>04/12/19 14:38</td>\n",
       "      <td>669 Spruce St, Los Angeles, CA 90001</td>\n",
       "    </tr>\n",
       "    <tr>\n",
       "      <th>5</th>\n",
       "      <td>176561</td>\n",
       "      <td>Wired Headphones</td>\n",
       "      <td>1</td>\n",
       "      <td>11.99</td>\n",
       "      <td>04/30/19 09:27</td>\n",
       "      <td>333 8th St, Los Angeles, CA 90001</td>\n",
       "    </tr>\n",
       "    <tr>\n",
       "      <th>6</th>\n",
       "      <td>176562</td>\n",
       "      <td>USB-C Charging Cable</td>\n",
       "      <td>1</td>\n",
       "      <td>11.95</td>\n",
       "      <td>04/29/19 13:03</td>\n",
       "      <td>381 Wilson St, San Francisco, CA 94016</td>\n",
       "    </tr>\n",
       "    <tr>\n",
       "      <th>7</th>\n",
       "      <td>176563</td>\n",
       "      <td>Bose SoundSport Headphones</td>\n",
       "      <td>1</td>\n",
       "      <td>99.99</td>\n",
       "      <td>04/02/19 07:46</td>\n",
       "      <td>668 Center St, Seattle, WA 98101</td>\n",
       "    </tr>\n",
       "    <tr>\n",
       "      <th>8</th>\n",
       "      <td>176564</td>\n",
       "      <td>USB-C Charging Cable</td>\n",
       "      <td>1</td>\n",
       "      <td>11.95</td>\n",
       "      <td>04/12/19 10:58</td>\n",
       "      <td>790 Ridge St, Atlanta, GA 30301</td>\n",
       "    </tr>\n",
       "    <tr>\n",
       "      <th>9</th>\n",
       "      <td>176565</td>\n",
       "      <td>Macbook Pro Laptop</td>\n",
       "      <td>1</td>\n",
       "      <td>1700</td>\n",
       "      <td>04/24/19 10:38</td>\n",
       "      <td>915 Willow St, San Francisco, CA 94016</td>\n",
       "    </tr>\n",
       "  </tbody>\n",
       "</table>\n",
       "</div>"
      ],
      "text/plain": [
       "  Order ID                     Product Quantity Ordered Price Each  \\\n",
       "0   176558        USB-C Charging Cable                2      11.95   \n",
       "1      NaN                         NaN              NaN        NaN   \n",
       "2   176559  Bose SoundSport Headphones                1      99.99   \n",
       "3   176560                Google Phone                1        600   \n",
       "4   176560            Wired Headphones                1      11.99   \n",
       "5   176561            Wired Headphones                1      11.99   \n",
       "6   176562        USB-C Charging Cable                1      11.95   \n",
       "7   176563  Bose SoundSport Headphones                1      99.99   \n",
       "8   176564        USB-C Charging Cable                1      11.95   \n",
       "9   176565          Macbook Pro Laptop                1       1700   \n",
       "\n",
       "       Order Date                        Purchase Address  \n",
       "0  04/19/19 08:46            917 1st St, Dallas, TX 75001  \n",
       "1             NaN                                     NaN  \n",
       "2  04/07/19 22:30       682 Chestnut St, Boston, MA 02215  \n",
       "3  04/12/19 14:38    669 Spruce St, Los Angeles, CA 90001  \n",
       "4  04/12/19 14:38    669 Spruce St, Los Angeles, CA 90001  \n",
       "5  04/30/19 09:27       333 8th St, Los Angeles, CA 90001  \n",
       "6  04/29/19 13:03  381 Wilson St, San Francisco, CA 94016  \n",
       "7  04/02/19 07:46        668 Center St, Seattle, WA 98101  \n",
       "8  04/12/19 10:58         790 Ridge St, Atlanta, GA 30301  \n",
       "9  04/24/19 10:38  915 Willow St, San Francisco, CA 94016  "
      ]
     },
     "execution_count": 14,
     "metadata": {},
     "output_type": "execute_result"
    }
   ],
   "source": [
    "# Sales_April_2019.csv is the first file out of many, let's take a look to see what the data offers!\n",
    "df = pd.read_csv(\"D:\\Data Science Project\\Portfolio Project\\Python\\Pandas\\SalesAnalysis\\Sales_Data\\Sales_April_2019.csv\")\n",
    "df.head(10)\n",
    "# Look! there is NaN values, which means the data needs some cleaning down the road"
   ]
  },
  {
   "cell_type": "code",
   "execution_count": 15,
   "id": "257d40fb-003d-4a4f-8a05-cd45720b81e0",
   "metadata": {},
   "outputs": [
    {
     "name": "stdout",
     "output_type": "stream",
     "text": [
      "(18383, 6)\n"
     ]
    }
   ],
   "source": [
    "# Just curious, let's see how many rows and columns are there in this particular file\n",
    "print(df.shape)"
   ]
  },
  {
   "cell_type": "markdown",
   "id": "5217a8ea-5d2f-4be7-addd-efaf57b5a567",
   "metadata": {},
   "source": [
    "What this means? 18383 rows of data with 6 columns/features. <br>"
   ]
  },
  {
   "cell_type": "markdown",
   "id": "0293e28a-6843-4ec4-9c22-230a514b5c32",
   "metadata": {
    "tags": []
   },
   "source": [
    "#### 3. Merging multiple sales data files into a single csv (concatenating)"
   ]
  },
  {
   "cell_type": "markdown",
   "id": "c9bc3b21-298b-483b-911f-8e0365b08a05",
   "metadata": {},
   "source": [
    "First let's write a loop code that allows us to get all names of the files."
   ]
  },
  {
   "cell_type": "code",
   "execution_count": 16,
   "id": "3e4e7ad3-95c7-42d6-8662-1b95f6bd2c84",
   "metadata": {},
   "outputs": [
    {
     "name": "stdout",
     "output_type": "stream",
     "text": [
      "Sales_April_2019.csv\n",
      "Sales_August_2019.csv\n",
      "Sales_December_2019.csv\n",
      "Sales_February_2019.csv\n",
      "Sales_January_2019.csv\n",
      "Sales_July_2019.csv\n",
      "Sales_June_2019.csv\n",
      "Sales_March_2019.csv\n",
      "Sales_May_2019.csv\n",
      "Sales_November_2019.csv\n",
      "Sales_October_2019.csv\n",
      "Sales_September_2019.csv\n"
     ]
    }
   ],
   "source": [
    "files = [file for file in os.listdir('D:\\Data Science Project\\Portfolio Project\\Python\\Pandas\\SalesAnalysis\\Sales_Data')]\n",
    "for file in files:\n",
    "    print(file)"
   ]
  },
  {
   "cell_type": "markdown",
   "id": "76c8b550-a0c4-4ea3-9ee1-d0fedf05bbbe",
   "metadata": {},
   "source": [
    "We can see that there are 12 files or a whole year worth of sales data! Now to concatenate (add all these files) into a single file."
   ]
  },
  {
   "cell_type": "code",
   "execution_count": 17,
   "id": "cc445ede-a34c-4e7e-a87e-7846887dc0d4",
   "metadata": {},
   "outputs": [
    {
     "data": {
      "text/html": [
       "<div>\n",
       "<style scoped>\n",
       "    .dataframe tbody tr th:only-of-type {\n",
       "        vertical-align: middle;\n",
       "    }\n",
       "\n",
       "    .dataframe tbody tr th {\n",
       "        vertical-align: top;\n",
       "    }\n",
       "\n",
       "    .dataframe thead th {\n",
       "        text-align: right;\n",
       "    }\n",
       "</style>\n",
       "<table border=\"1\" class=\"dataframe\">\n",
       "  <thead>\n",
       "    <tr style=\"text-align: right;\">\n",
       "      <th></th>\n",
       "      <th>Order ID</th>\n",
       "      <th>Product</th>\n",
       "      <th>Quantity Ordered</th>\n",
       "      <th>Price Each</th>\n",
       "      <th>Order Date</th>\n",
       "      <th>Purchase Address</th>\n",
       "    </tr>\n",
       "  </thead>\n",
       "  <tbody>\n",
       "    <tr>\n",
       "      <th>0</th>\n",
       "      <td>176558</td>\n",
       "      <td>USB-C Charging Cable</td>\n",
       "      <td>2</td>\n",
       "      <td>11.95</td>\n",
       "      <td>04/19/19 08:46</td>\n",
       "      <td>917 1st St, Dallas, TX 75001</td>\n",
       "    </tr>\n",
       "    <tr>\n",
       "      <th>1</th>\n",
       "      <td>NaN</td>\n",
       "      <td>NaN</td>\n",
       "      <td>NaN</td>\n",
       "      <td>NaN</td>\n",
       "      <td>NaN</td>\n",
       "      <td>NaN</td>\n",
       "    </tr>\n",
       "    <tr>\n",
       "      <th>2</th>\n",
       "      <td>176559</td>\n",
       "      <td>Bose SoundSport Headphones</td>\n",
       "      <td>1</td>\n",
       "      <td>99.99</td>\n",
       "      <td>04/07/19 22:30</td>\n",
       "      <td>682 Chestnut St, Boston, MA 02215</td>\n",
       "    </tr>\n",
       "    <tr>\n",
       "      <th>3</th>\n",
       "      <td>176560</td>\n",
       "      <td>Google Phone</td>\n",
       "      <td>1</td>\n",
       "      <td>600</td>\n",
       "      <td>04/12/19 14:38</td>\n",
       "      <td>669 Spruce St, Los Angeles, CA 90001</td>\n",
       "    </tr>\n",
       "    <tr>\n",
       "      <th>4</th>\n",
       "      <td>176560</td>\n",
       "      <td>Wired Headphones</td>\n",
       "      <td>1</td>\n",
       "      <td>11.99</td>\n",
       "      <td>04/12/19 14:38</td>\n",
       "      <td>669 Spruce St, Los Angeles, CA 90001</td>\n",
       "    </tr>\n",
       "  </tbody>\n",
       "</table>\n",
       "</div>"
      ],
      "text/plain": [
       "  Order ID                     Product Quantity Ordered Price Each  \\\n",
       "0   176558        USB-C Charging Cable                2      11.95   \n",
       "1      NaN                         NaN              NaN        NaN   \n",
       "2   176559  Bose SoundSport Headphones                1      99.99   \n",
       "3   176560                Google Phone                1        600   \n",
       "4   176560            Wired Headphones                1      11.99   \n",
       "\n",
       "       Order Date                      Purchase Address  \n",
       "0  04/19/19 08:46          917 1st St, Dallas, TX 75001  \n",
       "1             NaN                                   NaN  \n",
       "2  04/07/19 22:30     682 Chestnut St, Boston, MA 02215  \n",
       "3  04/12/19 14:38  669 Spruce St, Los Angeles, CA 90001  \n",
       "4  04/12/19 14:38  669 Spruce St, Los Angeles, CA 90001  "
      ]
     },
     "execution_count": 17,
     "metadata": {},
     "output_type": "execute_result"
    }
   ],
   "source": [
    "# Setting our whole_data variable as a pandas dataframe\n",
    "year_data = pd.DataFrame()\n",
    "\n",
    "# Same concept, but to append (add) all the rows of data of all files into a single file\n",
    "for file in files:\n",
    "    df = pd.read_csv(\"D:/Data Science Project/Portfolio Project/Python/Pandas/SalesAnalysis/Sales_Data/\" + file)\n",
    "    year_data = pd.concat([year_data, df])\n",
    "    \n",
    "year_data.head()"
   ]
  },
  {
   "cell_type": "code",
   "execution_count": 42,
   "id": "0df4ec95-aa40-448e-b126-b6a283d59d92",
   "metadata": {},
   "outputs": [
    {
     "data": {
      "text/plain": [
       "(186850, 6)"
      ]
     },
     "execution_count": 42,
     "metadata": {},
     "output_type": "execute_result"
    }
   ],
   "source": [
    "# Checking rows and columns of our combined data\n",
    "year_data.shape"
   ]
  },
  {
   "cell_type": "markdown",
   "id": "a55f88fa-68f4-4410-8a49-ec7d8a3a6aae",
   "metadata": {},
   "source": [
    "Remember that previously there were 18383 rows of data. Now it's nearly 190000 rows of data, meaning our merging attempt was successful! <br>\n",
    "Finally let's save the this merged data to a csv, just for a backup."
   ]
  },
  {
   "cell_type": "code",
   "execution_count": 20,
   "id": "5934c644-49d4-4489-87cd-9b79b585d750",
   "metadata": {},
   "outputs": [],
   "source": [
    "# Saving the merged data, and utilize just that data, is highly preferred \n",
    "# As it's much simpler than having to deal with 12 files of csv (basically preventing any error or extra appending, if we run the codes again)\n",
    "year_data.to_csv('Year_Data.csv', index = False)"
   ]
  },
  {
   "cell_type": "markdown",
   "id": "4c972f2c-04c9-42ca-9934-1cde4d64c7b2",
   "metadata": {},
   "source": [
    "Now we just assign 'sales_df' for loading up the previously Year_Data (the naming can be anything you desire)."
   ]
  },
  {
   "cell_type": "code",
   "execution_count": 3,
   "id": "81c7b791-b185-4c1d-a68e-ec0bef7d9dad",
   "metadata": {},
   "outputs": [
    {
     "data": {
      "text/html": [
       "<div>\n",
       "<style scoped>\n",
       "    .dataframe tbody tr th:only-of-type {\n",
       "        vertical-align: middle;\n",
       "    }\n",
       "\n",
       "    .dataframe tbody tr th {\n",
       "        vertical-align: top;\n",
       "    }\n",
       "\n",
       "    .dataframe thead th {\n",
       "        text-align: right;\n",
       "    }\n",
       "</style>\n",
       "<table border=\"1\" class=\"dataframe\">\n",
       "  <thead>\n",
       "    <tr style=\"text-align: right;\">\n",
       "      <th></th>\n",
       "      <th>Order ID</th>\n",
       "      <th>Product</th>\n",
       "      <th>Quantity Ordered</th>\n",
       "      <th>Price Each</th>\n",
       "      <th>Order Date</th>\n",
       "      <th>Purchase Address</th>\n",
       "    </tr>\n",
       "  </thead>\n",
       "  <tbody>\n",
       "    <tr>\n",
       "      <th>0</th>\n",
       "      <td>176558</td>\n",
       "      <td>USB-C Charging Cable</td>\n",
       "      <td>2</td>\n",
       "      <td>11.95</td>\n",
       "      <td>04/19/19 08:46</td>\n",
       "      <td>917 1st St, Dallas, TX 75001</td>\n",
       "    </tr>\n",
       "    <tr>\n",
       "      <th>1</th>\n",
       "      <td>NaN</td>\n",
       "      <td>NaN</td>\n",
       "      <td>NaN</td>\n",
       "      <td>NaN</td>\n",
       "      <td>NaN</td>\n",
       "      <td>NaN</td>\n",
       "    </tr>\n",
       "    <tr>\n",
       "      <th>2</th>\n",
       "      <td>176559</td>\n",
       "      <td>Bose SoundSport Headphones</td>\n",
       "      <td>1</td>\n",
       "      <td>99.99</td>\n",
       "      <td>04/07/19 22:30</td>\n",
       "      <td>682 Chestnut St, Boston, MA 02215</td>\n",
       "    </tr>\n",
       "    <tr>\n",
       "      <th>3</th>\n",
       "      <td>176560</td>\n",
       "      <td>Google Phone</td>\n",
       "      <td>1</td>\n",
       "      <td>600</td>\n",
       "      <td>04/12/19 14:38</td>\n",
       "      <td>669 Spruce St, Los Angeles, CA 90001</td>\n",
       "    </tr>\n",
       "    <tr>\n",
       "      <th>4</th>\n",
       "      <td>176560</td>\n",
       "      <td>Wired Headphones</td>\n",
       "      <td>1</td>\n",
       "      <td>11.99</td>\n",
       "      <td>04/12/19 14:38</td>\n",
       "      <td>669 Spruce St, Los Angeles, CA 90001</td>\n",
       "    </tr>\n",
       "  </tbody>\n",
       "</table>\n",
       "</div>"
      ],
      "text/plain": [
       "  Order ID                     Product Quantity Ordered Price Each  \\\n",
       "0   176558        USB-C Charging Cable                2      11.95   \n",
       "1      NaN                         NaN              NaN        NaN   \n",
       "2   176559  Bose SoundSport Headphones                1      99.99   \n",
       "3   176560                Google Phone                1        600   \n",
       "4   176560            Wired Headphones                1      11.99   \n",
       "\n",
       "       Order Date                      Purchase Address  \n",
       "0  04/19/19 08:46          917 1st St, Dallas, TX 75001  \n",
       "1             NaN                                   NaN  \n",
       "2  04/07/19 22:30     682 Chestnut St, Boston, MA 02215  \n",
       "3  04/12/19 14:38  669 Spruce St, Los Angeles, CA 90001  \n",
       "4  04/12/19 14:38  669 Spruce St, Los Angeles, CA 90001  "
      ]
     },
     "execution_count": 3,
     "metadata": {},
     "output_type": "execute_result"
    }
   ],
   "source": [
    "# Reading up the updated, merged file!\n",
    "sales_df = pd.read_csv(\"D:\\Data Science Project\\Portfolio Project\\Python\\Pandas\\SalesAnalysis\\Sales_Data\\Year_Data.csv\")\n",
    "sales_df.head()\n",
    "# There it is, ready for further action"
   ]
  },
  {
   "cell_type": "markdown",
   "id": "55e0276f-1048-4099-9147-d268905ee726",
   "metadata": {
    "tags": []
   },
   "source": [
    "#### 4. Cleaning and tidying up the data"
   ]
  },
  {
   "cell_type": "markdown",
   "id": "2bae5645-eb44-4612-87e6-50310d4e5d4c",
   "metadata": {},
   "source": [
    "Don't you wish all the data you work with has no null values, has the correct data types, etc. Well until that faithful day comes, we have to clean it up ourselves. <br>"
   ]
  },
  {
   "cell_type": "markdown",
   "id": "2d04eadc-5ffc-48cd-8cc3-f2b6f4ee8913",
   "metadata": {
    "tags": []
   },
   "source": [
    "##### 4.1. Finding rows with nulls (NaN) and dropping it"
   ]
  },
  {
   "cell_type": "code",
   "execution_count": 4,
   "id": "815ba2d8-9e29-4005-896e-4ea7cabbee27",
   "metadata": {},
   "outputs": [
    {
     "data": {
      "text/html": [
       "<div>\n",
       "<style scoped>\n",
       "    .dataframe tbody tr th:only-of-type {\n",
       "        vertical-align: middle;\n",
       "    }\n",
       "\n",
       "    .dataframe tbody tr th {\n",
       "        vertical-align: top;\n",
       "    }\n",
       "\n",
       "    .dataframe thead th {\n",
       "        text-align: right;\n",
       "    }\n",
       "</style>\n",
       "<table border=\"1\" class=\"dataframe\">\n",
       "  <thead>\n",
       "    <tr style=\"text-align: right;\">\n",
       "      <th></th>\n",
       "      <th>Order ID</th>\n",
       "      <th>Product</th>\n",
       "      <th>Quantity Ordered</th>\n",
       "      <th>Price Each</th>\n",
       "      <th>Order Date</th>\n",
       "      <th>Purchase Address</th>\n",
       "    </tr>\n",
       "  </thead>\n",
       "  <tbody>\n",
       "    <tr>\n",
       "      <th>1</th>\n",
       "      <td>NaN</td>\n",
       "      <td>NaN</td>\n",
       "      <td>NaN</td>\n",
       "      <td>NaN</td>\n",
       "      <td>NaN</td>\n",
       "      <td>NaN</td>\n",
       "    </tr>\n",
       "    <tr>\n",
       "      <th>356</th>\n",
       "      <td>NaN</td>\n",
       "      <td>NaN</td>\n",
       "      <td>NaN</td>\n",
       "      <td>NaN</td>\n",
       "      <td>NaN</td>\n",
       "      <td>NaN</td>\n",
       "    </tr>\n",
       "    <tr>\n",
       "      <th>735</th>\n",
       "      <td>NaN</td>\n",
       "      <td>NaN</td>\n",
       "      <td>NaN</td>\n",
       "      <td>NaN</td>\n",
       "      <td>NaN</td>\n",
       "      <td>NaN</td>\n",
       "    </tr>\n",
       "    <tr>\n",
       "      <th>1433</th>\n",
       "      <td>NaN</td>\n",
       "      <td>NaN</td>\n",
       "      <td>NaN</td>\n",
       "      <td>NaN</td>\n",
       "      <td>NaN</td>\n",
       "      <td>NaN</td>\n",
       "    </tr>\n",
       "    <tr>\n",
       "      <th>1553</th>\n",
       "      <td>NaN</td>\n",
       "      <td>NaN</td>\n",
       "      <td>NaN</td>\n",
       "      <td>NaN</td>\n",
       "      <td>NaN</td>\n",
       "      <td>NaN</td>\n",
       "    </tr>\n",
       "  </tbody>\n",
       "</table>\n",
       "</div>"
      ],
      "text/plain": [
       "     Order ID Product Quantity Ordered Price Each Order Date Purchase Address\n",
       "1         NaN     NaN              NaN        NaN        NaN              NaN\n",
       "356       NaN     NaN              NaN        NaN        NaN              NaN\n",
       "735       NaN     NaN              NaN        NaN        NaN              NaN\n",
       "1433      NaN     NaN              NaN        NaN        NaN              NaN\n",
       "1553      NaN     NaN              NaN        NaN        NaN              NaN"
      ]
     },
     "execution_count": 4,
     "metadata": {},
     "output_type": "execute_result"
    }
   ],
   "source": [
    "# Let's start with filtering the data to see rows with at least one NaN value\n",
    "null_df = sales_df[sales_df.isna().any(axis = 1)]\n",
    "null_df.head()"
   ]
  },
  {
   "cell_type": "code",
   "execution_count": 5,
   "id": "24253547-b9e6-4661-a162-9b2471445463",
   "metadata": {},
   "outputs": [
    {
     "data": {
      "text/plain": [
       "(545, 6)"
      ]
     },
     "execution_count": 5,
     "metadata": {},
     "output_type": "execute_result"
    }
   ],
   "source": [
    "# Checking the null_df total of rows & columns\n",
    "null_df.shape"
   ]
  },
  {
   "cell_type": "code",
   "execution_count": 6,
   "id": "b3613670-6a2a-4b92-ac60-c85b821560f6",
   "metadata": {},
   "outputs": [
    {
     "data": {
      "text/plain": [
       "Order ID            545\n",
       "Product             545\n",
       "Quantity Ordered    545\n",
       "Price Each          545\n",
       "Order Date          545\n",
       "Purchase Address    545\n",
       "dtype: int64"
      ]
     },
     "execution_count": 6,
     "metadata": {},
     "output_type": "execute_result"
    }
   ],
   "source": [
    "# To verify, there is also another way\n",
    "sales_df.isnull().sum()"
   ]
  },
  {
   "cell_type": "markdown",
   "id": "6fa01ade-f47d-4e0c-aafa-32476313cc87",
   "metadata": {},
   "source": [
    "It can be seen that for every row that contains a null, basically has the whole other columns with nulls too. So, simply just rows of totally empty data"
   ]
  },
  {
   "cell_type": "code",
   "execution_count": 7,
   "id": "8a56dd97-0697-4679-bc9d-9248059c98c4",
   "metadata": {},
   "outputs": [
    {
     "data": {
      "text/plain": [
       "(186305, 6)"
      ]
     },
     "execution_count": 7,
     "metadata": {},
     "output_type": "execute_result"
    }
   ],
   "source": [
    "# Now to drop/delete rows that contains ALL null values in every column\n",
    "sales_df = sales_df.dropna(how = 'all')\n",
    "sales_df.shape\n",
    "# Remember that the initial rows were 186850, minus 545 null rows equals:"
   ]
  },
  {
   "cell_type": "markdown",
   "id": "e9609f62-f4d8-4ea8-b493-bc596ff0c931",
   "metadata": {},
   "source": [
    "Our newly cleaned data of null values has 186305 rows, let's move on!"
   ]
  },
  {
   "cell_type": "markdown",
   "id": "289c8a5a-fce1-4ddd-abdb-dd8264766b73",
   "metadata": {},
   "source": [
    "##### 4.2. Dropping duplicates"
   ]
  },
  {
   "cell_type": "markdown",
   "id": "a30b892d-9a01-4a17-95b8-4e62ce275166",
   "metadata": {},
   "source": [
    "Before I made this script, in my initial analysis, I encountered an error that says there are words 'Or' in the Order Date column. So I did an investigation to see what that's all about."
   ]
  },
  {
   "cell_type": "code",
   "execution_count": 8,
   "id": "b37f1f4b-3483-47a0-a865-7351d48aa38e",
   "metadata": {},
   "outputs": [
    {
     "data": {
      "text/plain": [
       "(355, 6)"
      ]
     },
     "execution_count": 8,
     "metadata": {},
     "output_type": "execute_result"
    }
   ],
   "source": [
    "# Making a temporary sales_df so I don't screw up the original sales_df\n",
    "temp_df = sales_df[sales_df['Order Date'].str[0:2] == 'Or']\n",
    "temp_df.shape"
   ]
  },
  {
   "cell_type": "markdown",
   "id": "12a8cb78-23c3-472f-a5db-13136ae42abf",
   "metadata": {},
   "source": [
    "Right on, we can see there are many duplicates. That temp_df shows all rows containing duplicates of each columns' name into the row itself!\n",
    "Let's drop ALL duplicates which may lurk in the data. Not just the ones we saw before, but also the actual sales data that may be duplicated too."
   ]
  },
  {
   "cell_type": "code",
   "execution_count": 9,
   "id": "94cde499-eb26-4065-9d6d-a427350f007a",
   "metadata": {},
   "outputs": [
    {
     "data": {
      "text/plain": [
       "(185687, 6)"
      ]
     },
     "execution_count": 9,
     "metadata": {},
     "output_type": "execute_result"
    }
   ],
   "source": [
    "# Dropping all duplicates in the data\n",
    "sales_df = sales_df.drop_duplicates()\n",
    "sales_df.shape"
   ]
  },
  {
   "cell_type": "markdown",
   "id": "0bf93eb0-2813-4a8d-809a-d539385e0e7d",
   "metadata": {},
   "source": [
    "Now one thing to note on dropping duplicates, is it eliminates duplicates only, meaning there is still one row containing: [Order ID, Product, Quantity Ordered, Price Each, Order Date, Purchase Address]<br>\n",
    "We don't want ANY of that, so let's try dropping this unwanted row"
   ]
  },
  {
   "cell_type": "code",
   "execution_count": 10,
   "id": "22118128-28cc-40cf-b474-17082ac6292e",
   "metadata": {},
   "outputs": [
    {
     "data": {
      "text/html": [
       "<div>\n",
       "<style scoped>\n",
       "    .dataframe tbody tr th:only-of-type {\n",
       "        vertical-align: middle;\n",
       "    }\n",
       "\n",
       "    .dataframe tbody tr th {\n",
       "        vertical-align: top;\n",
       "    }\n",
       "\n",
       "    .dataframe thead th {\n",
       "        text-align: right;\n",
       "    }\n",
       "</style>\n",
       "<table border=\"1\" class=\"dataframe\">\n",
       "  <thead>\n",
       "    <tr style=\"text-align: right;\">\n",
       "      <th></th>\n",
       "      <th>Order ID</th>\n",
       "      <th>Product</th>\n",
       "      <th>Quantity Ordered</th>\n",
       "      <th>Price Each</th>\n",
       "      <th>Order Date</th>\n",
       "      <th>Purchase Address</th>\n",
       "    </tr>\n",
       "  </thead>\n",
       "  <tbody>\n",
       "    <tr>\n",
       "      <th>519</th>\n",
       "      <td>Order ID</td>\n",
       "      <td>Product</td>\n",
       "      <td>Quantity Ordered</td>\n",
       "      <td>Price Each</td>\n",
       "      <td>Order Date</td>\n",
       "      <td>Purchase Address</td>\n",
       "    </tr>\n",
       "  </tbody>\n",
       "</table>\n",
       "</div>"
      ],
      "text/plain": [
       "     Order ID  Product  Quantity Ordered  Price Each  Order Date  \\\n",
       "519  Order ID  Product  Quantity Ordered  Price Each  Order Date   \n",
       "\n",
       "     Purchase Address  \n",
       "519  Purchase Address  "
      ]
     },
     "execution_count": 10,
     "metadata": {},
     "output_type": "execute_result"
    }
   ],
   "source": [
    "# Here's what I meant, there is still one row of this unnecessary, non-sales row of data\n",
    "sales_df[sales_df['Order Date'].str[0:2] == 'Or']"
   ]
  },
  {
   "cell_type": "code",
   "execution_count": 11,
   "id": "5f9a10c3-ec30-489b-a2e9-11e6ec4b6629",
   "metadata": {},
   "outputs": [
    {
     "data": {
      "text/plain": [
       "(185686, 6)"
      ]
     },
     "execution_count": 11,
     "metadata": {},
     "output_type": "execute_result"
    }
   ],
   "source": [
    "# Dropping the unwanted row, conditional row dropping ('!=' is an operator meaning 'not equal to')\n",
    "sales_df = sales_df[sales_df['Order Date'] != 'Order Date']\n",
    "sales_df.shape"
   ]
  },
  {
   "cell_type": "markdown",
   "id": "d6c9a5cc-8cd3-459c-8b20-316df0fc2767",
   "metadata": {},
   "source": [
    "Well, our previous null-free data has 186305 rows, minus 185686 equals 619 rows (duplicates and a single unwanted row) that have been dropped!"
   ]
  },
  {
   "cell_type": "markdown",
   "id": "f661a3fe-f7e1-4db7-aba1-752ff2ae0f1a",
   "metadata": {
    "tags": []
   },
   "source": [
    "##### 4.3. Adding additional columns and changing data types"
   ]
  },
  {
   "cell_type": "markdown",
   "id": "9280396e-1801-4503-99c1-383c61862914",
   "metadata": {},
   "source": [
    "Let's start with adding a month column"
   ]
  },
  {
   "cell_type": "code",
   "execution_count": 12,
   "id": "1bb7441a-6456-4b1b-a1e5-d90ddb76d3fb",
   "metadata": {},
   "outputs": [
    {
     "data": {
      "text/html": [
       "<div>\n",
       "<style scoped>\n",
       "    .dataframe tbody tr th:only-of-type {\n",
       "        vertical-align: middle;\n",
       "    }\n",
       "\n",
       "    .dataframe tbody tr th {\n",
       "        vertical-align: top;\n",
       "    }\n",
       "\n",
       "    .dataframe thead th {\n",
       "        text-align: right;\n",
       "    }\n",
       "</style>\n",
       "<table border=\"1\" class=\"dataframe\">\n",
       "  <thead>\n",
       "    <tr style=\"text-align: right;\">\n",
       "      <th></th>\n",
       "      <th>Order ID</th>\n",
       "      <th>Product</th>\n",
       "      <th>Quantity Ordered</th>\n",
       "      <th>Price Each</th>\n",
       "      <th>Order Date</th>\n",
       "      <th>Purchase Address</th>\n",
       "      <th>Month</th>\n",
       "    </tr>\n",
       "  </thead>\n",
       "  <tbody>\n",
       "    <tr>\n",
       "      <th>0</th>\n",
       "      <td>176558</td>\n",
       "      <td>USB-C Charging Cable</td>\n",
       "      <td>2</td>\n",
       "      <td>11.95</td>\n",
       "      <td>04/19/19 08:46</td>\n",
       "      <td>917 1st St, Dallas, TX 75001</td>\n",
       "      <td>4</td>\n",
       "    </tr>\n",
       "    <tr>\n",
       "      <th>2</th>\n",
       "      <td>176559</td>\n",
       "      <td>Bose SoundSport Headphones</td>\n",
       "      <td>1</td>\n",
       "      <td>99.99</td>\n",
       "      <td>04/07/19 22:30</td>\n",
       "      <td>682 Chestnut St, Boston, MA 02215</td>\n",
       "      <td>4</td>\n",
       "    </tr>\n",
       "    <tr>\n",
       "      <th>3</th>\n",
       "      <td>176560</td>\n",
       "      <td>Google Phone</td>\n",
       "      <td>1</td>\n",
       "      <td>600</td>\n",
       "      <td>04/12/19 14:38</td>\n",
       "      <td>669 Spruce St, Los Angeles, CA 90001</td>\n",
       "      <td>4</td>\n",
       "    </tr>\n",
       "    <tr>\n",
       "      <th>4</th>\n",
       "      <td>176560</td>\n",
       "      <td>Wired Headphones</td>\n",
       "      <td>1</td>\n",
       "      <td>11.99</td>\n",
       "      <td>04/12/19 14:38</td>\n",
       "      <td>669 Spruce St, Los Angeles, CA 90001</td>\n",
       "      <td>4</td>\n",
       "    </tr>\n",
       "    <tr>\n",
       "      <th>5</th>\n",
       "      <td>176561</td>\n",
       "      <td>Wired Headphones</td>\n",
       "      <td>1</td>\n",
       "      <td>11.99</td>\n",
       "      <td>04/30/19 09:27</td>\n",
       "      <td>333 8th St, Los Angeles, CA 90001</td>\n",
       "      <td>4</td>\n",
       "    </tr>\n",
       "  </tbody>\n",
       "</table>\n",
       "</div>"
      ],
      "text/plain": [
       "  Order ID                     Product Quantity Ordered Price Each  \\\n",
       "0   176558        USB-C Charging Cable                2      11.95   \n",
       "2   176559  Bose SoundSport Headphones                1      99.99   \n",
       "3   176560                Google Phone                1        600   \n",
       "4   176560            Wired Headphones                1      11.99   \n",
       "5   176561            Wired Headphones                1      11.99   \n",
       "\n",
       "       Order Date                      Purchase Address  Month  \n",
       "0  04/19/19 08:46          917 1st St, Dallas, TX 75001      4  \n",
       "2  04/07/19 22:30     682 Chestnut St, Boston, MA 02215      4  \n",
       "3  04/12/19 14:38  669 Spruce St, Los Angeles, CA 90001      4  \n",
       "4  04/12/19 14:38  669 Spruce St, Los Angeles, CA 90001      4  \n",
       "5  04/30/19 09:27     333 8th St, Los Angeles, CA 90001      4  "
      ]
     },
     "execution_count": 12,
     "metadata": {},
     "output_type": "execute_result"
    }
   ],
   "source": [
    "# Adding the column 'Month' and filling the column with the first two strings out of 'Order Date' column\n",
    "sales_df['Month'] = sales_df['Order Date'].str[0:2]\n",
    "\n",
    "# While we're here let's change the 'Month' data type to integer (round numbers, no commas)\n",
    "sales_df['Month'] = sales_df['Month'].astype('int32')\n",
    "sales_df.head()"
   ]
  },
  {
   "cell_type": "markdown",
   "id": "ad167f5f-3c4f-408f-9434-7ba40d266144",
   "metadata": {},
   "source": [
    "Checking and changing data types of each column is crucial for further calculations or analysis"
   ]
  },
  {
   "cell_type": "code",
   "execution_count": 13,
   "id": "e999ea1d-1ebb-4c3b-9af2-b93d75395c3c",
   "metadata": {},
   "outputs": [
    {
     "data": {
      "text/plain": [
       "Order ID            object\n",
       "Product             object\n",
       "Quantity Ordered    object\n",
       "Price Each          object\n",
       "Order Date          object\n",
       "Purchase Address    object\n",
       "Month                int32\n",
       "dtype: object"
      ]
     },
     "execution_count": 13,
     "metadata": {},
     "output_type": "execute_result"
    }
   ],
   "source": [
    "# Checking what other columns' data types are\n",
    "sales_df.dtypes"
   ]
  },
  {
   "cell_type": "markdown",
   "id": "241929af-bfcf-4215-8355-02986975a10f",
   "metadata": {},
   "source": [
    "Now let's change 'Order ID' and 'Quantity Ordered' to integers (round numbers), while 'Price Each' will be floats (numbers with commas)"
   ]
  },
  {
   "cell_type": "code",
   "execution_count": 14,
   "id": "0b3fdcce-0717-4c2c-bb87-66890abc57cb",
   "metadata": {},
   "outputs": [
    {
     "data": {
      "text/plain": [
       "Order ID              int32\n",
       "Product              object\n",
       "Quantity Ordered      int32\n",
       "Price Each          float64\n",
       "Order Date           object\n",
       "Purchase Address     object\n",
       "Month                 int32\n",
       "dtype: object"
      ]
     },
     "execution_count": 14,
     "metadata": {},
     "output_type": "execute_result"
    }
   ],
   "source": [
    "# Changing the rest of columns' data types\n",
    "# To integers\n",
    "int_cols = ['Order ID', 'Quantity Ordered'] \n",
    "sales_df[int_cols] = sales_df[int_cols].astype('int32') \n",
    "\n",
    "# To floats\n",
    "sales_df['Price Each'] = sales_df['Price Each'].astype('float64')\n",
    "sales_df.dtypes"
   ]
  },
  {
   "cell_type": "markdown",
   "id": "c86838c1-b46d-49f1-abf9-95332685e2dd",
   "metadata": {},
   "source": [
    "We can also use the pandas pd.to_numeric() function, this does the job as well, maybe in the future. <br>\n",
    "I guess we're ready for the analysis, other modifications or column additions will be done when we need it."
   ]
  },
  {
   "cell_type": "markdown",
   "id": "03bfd4de-6d67-4ffc-a119-ec0dea036ef5",
   "metadata": {},
   "source": [
    "#### 5. Answering business questions out of our data"
   ]
  },
  {
   "cell_type": "markdown",
   "id": "65018696-7072-4dbb-94cb-51be5fc3bed9",
   "metadata": {},
   "source": [
    "This data was generated by an e-commerce platform (in which its actual name isn't made public) where it has been modified heavily to just include several products and columns. All of which are electronics. To give you an idea, here's all the products listed in this dataset."
   ]
  },
  {
   "cell_type": "code",
   "execution_count": 15,
   "id": "e24387c2-7b88-444f-bb29-bf370c639a57",
   "metadata": {},
   "outputs": [
    {
     "data": {
      "text/plain": [
       "array(['USB-C Charging Cable', 'Bose SoundSport Headphones',\n",
       "       'Google Phone', 'Wired Headphones', 'Macbook Pro Laptop',\n",
       "       'Lightning Charging Cable', '27in 4K Gaming Monitor',\n",
       "       'AA Batteries (4-pack)', 'Apple Airpods Headphones',\n",
       "       'AAA Batteries (4-pack)', 'iPhone', 'Flatscreen TV',\n",
       "       '27in FHD Monitor', '20in Monitor', 'LG Dryer', 'ThinkPad Laptop',\n",
       "       'Vareebadd Phone', 'LG Washing Machine', '34in Ultrawide Monitor'],\n",
       "      dtype=object)"
      ]
     },
     "execution_count": 15,
     "metadata": {},
     "output_type": "execute_result"
    }
   ],
   "source": [
    "# Bringing up all the products in sales_df\n",
    "sales_df['Product'].unique()"
   ]
  },
  {
   "cell_type": "markdown",
   "id": "6568e0a4-2db3-415f-a5a8-1311570a9a95",
   "metadata": {
    "tags": []
   },
   "source": [
    "#### 5.1. What month has the highest sales? And how much money was earned?"
   ]
  },
  {
   "cell_type": "markdown",
   "id": "1d752fba-7915-4ba4-9c1e-87dbe580f3fa",
   "metadata": {},
   "source": [
    "The month, date, year, and even the purchasing time is there. But we need to separate those into different individual columns!"
   ]
  },
  {
   "cell_type": "code",
   "execution_count": 16,
   "id": "049c31e1-8b63-4a1d-8583-23007723fa4f",
   "metadata": {},
   "outputs": [
    {
     "data": {
      "text/html": [
       "<div>\n",
       "<style scoped>\n",
       "    .dataframe tbody tr th:only-of-type {\n",
       "        vertical-align: middle;\n",
       "    }\n",
       "\n",
       "    .dataframe tbody tr th {\n",
       "        vertical-align: top;\n",
       "    }\n",
       "\n",
       "    .dataframe thead th {\n",
       "        text-align: right;\n",
       "    }\n",
       "</style>\n",
       "<table border=\"1\" class=\"dataframe\">\n",
       "  <thead>\n",
       "    <tr style=\"text-align: right;\">\n",
       "      <th></th>\n",
       "      <th>Quantity Ordered</th>\n",
       "      <th>Sales</th>\n",
       "    </tr>\n",
       "    <tr>\n",
       "      <th>Month</th>\n",
       "      <th></th>\n",
       "      <th></th>\n",
       "    </tr>\n",
       "  </thead>\n",
       "  <tbody>\n",
       "    <tr>\n",
       "      <th>1</th>\n",
       "      <td>10893</td>\n",
       "      <td>1821413.16</td>\n",
       "    </tr>\n",
       "    <tr>\n",
       "      <th>2</th>\n",
       "      <td>13431</td>\n",
       "      <td>2200078.08</td>\n",
       "    </tr>\n",
       "    <tr>\n",
       "      <th>3</th>\n",
       "      <td>16979</td>\n",
       "      <td>2804973.35</td>\n",
       "    </tr>\n",
       "    <tr>\n",
       "      <th>4</th>\n",
       "      <td>20536</td>\n",
       "      <td>3389217.98</td>\n",
       "    </tr>\n",
       "    <tr>\n",
       "      <th>5</th>\n",
       "      <td>18653</td>\n",
       "      <td>3150616.23</td>\n",
       "    </tr>\n",
       "    <tr>\n",
       "      <th>6</th>\n",
       "      <td>15234</td>\n",
       "      <td>2576280.15</td>\n",
       "    </tr>\n",
       "    <tr>\n",
       "      <th>7</th>\n",
       "      <td>16054</td>\n",
       "      <td>2646461.32</td>\n",
       "    </tr>\n",
       "    <tr>\n",
       "      <th>8</th>\n",
       "      <td>13429</td>\n",
       "      <td>2241083.37</td>\n",
       "    </tr>\n",
       "    <tr>\n",
       "      <th>9</th>\n",
       "      <td>13091</td>\n",
       "      <td>2094465.69</td>\n",
       "    </tr>\n",
       "    <tr>\n",
       "      <th>10</th>\n",
       "      <td>22669</td>\n",
       "      <td>3734777.86</td>\n",
       "    </tr>\n",
       "    <tr>\n",
       "      <th>11</th>\n",
       "      <td>19769</td>\n",
       "      <td>3197875.05</td>\n",
       "    </tr>\n",
       "    <tr>\n",
       "      <th>12</th>\n",
       "      <td>28074</td>\n",
       "      <td>4608295.70</td>\n",
       "    </tr>\n",
       "  </tbody>\n",
       "</table>\n",
       "</div>"
      ],
      "text/plain": [
       "       Quantity Ordered       Sales\n",
       "Month                              \n",
       "1                 10893  1821413.16\n",
       "2                 13431  2200078.08\n",
       "3                 16979  2804973.35\n",
       "4                 20536  3389217.98\n",
       "5                 18653  3150616.23\n",
       "6                 15234  2576280.15\n",
       "7                 16054  2646461.32\n",
       "8                 13429  2241083.37\n",
       "9                 13091  2094465.69\n",
       "10                22669  3734777.86\n",
       "11                19769  3197875.05\n",
       "12                28074  4608295.70"
      ]
     },
     "execution_count": 16,
     "metadata": {},
     "output_type": "execute_result"
    }
   ],
   "source": [
    "# Let's add 'Sales' column which contains 'Quantity Ordered' * 'Price Each'\n",
    "sales_df['Sales'] = sales_df['Quantity Ordered'] * sales_df['Price Each']\n",
    "# Assigning a new dataframe named 'sales_monthly_df'\n",
    "sales_monthly_df = sales_df.groupby(['Month']).sum()\n",
    "sales_monthly_df[['Quantity Ordered','Sales']]"
   ]
  },
  {
   "cell_type": "markdown",
   "id": "f19ced08-3747-433e-8358-73ae82e56308",
   "metadata": {},
   "source": [
    "So, the answer is December with more than 4.6 million US$ (American data, American currency), with the lowest earning month being January with approximately 1.8 million USD.<br>\n",
    "But another way to better understand and grasp what the data says as a whole, is through visualizations. Bar charts are seemingly a good way for this case, let's try that!"
   ]
  },
  {
   "cell_type": "code",
   "execution_count": 17,
   "id": "384bad1b-bc38-41eb-a091-0b466754efb4",
   "metadata": {},
   "outputs": [
    {
     "data": {
      "image/png": "[encoded data removed]",
      "text/plain": [
       "<Figure size 612x360 with 1 Axes>"
      ]
     },
     "metadata": {
      "needs_background": "light"
     },
     "output_type": "display_data"
    }
   ],
   "source": [
    "# Creating bar chart of total sales per month from the data\n",
    "months = range(1,13)\n",
    "plt.rcParams[\"figure.figsize\"] = [8.5, 5]\n",
    "plt.rcParams[\"figure.autolayout\"] = True\n",
    "plt.bar(months, sales_df.groupby(['Month']).sum()['Sales'])\n",
    "plt.xticks(months)\n",
    "plt.title('Sales per Month of 2019 Bar Chart')\n",
    "plt.xlabel('Month')\n",
    "plt.ylabel('Sales (US$)')\n",
    "plt.show()"
   ]
  },
  {
   "cell_type": "markdown",
   "id": "f1fcffe0-d648-44f2-9689-ba9f1456b23a",
   "metadata": {},
   "source": [
    "Now, you can definitely see the sales revenue throughout the months much easier.<br>\n",
    "From this question only, we can expand our analysis to many more questions and findings. For example:<br>\n",
    "-What is the best selling product of each month?<br>\n",
    "-What category of electronics are sold most at every month (headphones, smartphones, cables, etc)?<br>\n",
    "-Is there a correlation between each electronic's category sales and the months?<br>\n",
    "And that's not even touching the weekly time frame analysis, so much to answer yet so little time on our hands.<br><br>\n",
    "Moving on.."
   ]
  },
  {
   "cell_type": "markdown",
   "id": "9d92c830-1464-40fc-b0ce-60b73efa5485",
   "metadata": {
    "tags": []
   },
   "source": [
    "#### 5.2. What city had the highest sales revenue?"
   ]
  },
  {
   "cell_type": "markdown",
   "id": "8391b6a7-994c-4812-83ed-4644871db53e",
   "metadata": {},
   "source": [
    "The sales_df hasn't got a separate city column, let's make that."
   ]
  },
  {
   "cell_type": "code",
   "execution_count": 18,
   "id": "8a142591-f307-4df1-9c1e-9e2aa6e8d570",
   "metadata": {},
   "outputs": [
    {
     "data": {
      "text/html": [
       "<div>\n",
       "<style scoped>\n",
       "    .dataframe tbody tr th:only-of-type {\n",
       "        vertical-align: middle;\n",
       "    }\n",
       "\n",
       "    .dataframe tbody tr th {\n",
       "        vertical-align: top;\n",
       "    }\n",
       "\n",
       "    .dataframe thead th {\n",
       "        text-align: right;\n",
       "    }\n",
       "</style>\n",
       "<table border=\"1\" class=\"dataframe\">\n",
       "  <thead>\n",
       "    <tr style=\"text-align: right;\">\n",
       "      <th></th>\n",
       "      <th>Purchase Address</th>\n",
       "      <th>City</th>\n",
       "    </tr>\n",
       "  </thead>\n",
       "  <tbody>\n",
       "    <tr>\n",
       "      <th>0</th>\n",
       "      <td>917 1st St, Dallas, TX 75001</td>\n",
       "      <td>Dallas</td>\n",
       "    </tr>\n",
       "    <tr>\n",
       "      <th>2</th>\n",
       "      <td>682 Chestnut St, Boston, MA 02215</td>\n",
       "      <td>Boston</td>\n",
       "    </tr>\n",
       "    <tr>\n",
       "      <th>3</th>\n",
       "      <td>669 Spruce St, Los Angeles, CA 90001</td>\n",
       "      <td>Los Angeles</td>\n",
       "    </tr>\n",
       "    <tr>\n",
       "      <th>4</th>\n",
       "      <td>669 Spruce St, Los Angeles, CA 90001</td>\n",
       "      <td>Los Angeles</td>\n",
       "    </tr>\n",
       "    <tr>\n",
       "      <th>5</th>\n",
       "      <td>333 8th St, Los Angeles, CA 90001</td>\n",
       "      <td>Los Angeles</td>\n",
       "    </tr>\n",
       "  </tbody>\n",
       "</table>\n",
       "</div>"
      ],
      "text/plain": [
       "                       Purchase Address          City\n",
       "0          917 1st St, Dallas, TX 75001        Dallas\n",
       "2     682 Chestnut St, Boston, MA 02215        Boston\n",
       "3  669 Spruce St, Los Angeles, CA 90001   Los Angeles\n",
       "4  669 Spruce St, Los Angeles, CA 90001   Los Angeles\n",
       "5     333 8th St, Los Angeles, CA 90001   Los Angeles"
      ]
     },
     "execution_count": 18,
     "metadata": {},
     "output_type": "execute_result"
    }
   ],
   "source": [
    "# Adding a city column, using .apply() function\n",
    "sales_df['City'] = sales_df['Purchase Address'].apply(lambda x: x.split(',')[1]) \n",
    "# If you're confused at this, try googling lambda and .split usage in python\n",
    "sales_df[['Purchase Address','City']].head()"
   ]
  },
  {
   "cell_type": "markdown",
   "id": "7ef582cb-22b1-46f1-9aaf-307967b2970d",
   "metadata": {},
   "source": [
    "There is also another way to do this, using .apply() and custom made functions. Let's try that."
   ]
  },
  {
   "cell_type": "code",
   "execution_count": 19,
   "id": "0680dfc9-cded-49da-9fb5-04a19a09ce31",
   "metadata": {},
   "outputs": [
    {
     "data": {
      "text/html": [
       "<div>\n",
       "<style scoped>\n",
       "    .dataframe tbody tr th:only-of-type {\n",
       "        vertical-align: middle;\n",
       "    }\n",
       "\n",
       "    .dataframe tbody tr th {\n",
       "        vertical-align: top;\n",
       "    }\n",
       "\n",
       "    .dataframe thead th {\n",
       "        text-align: right;\n",
       "    }\n",
       "</style>\n",
       "<table border=\"1\" class=\"dataframe\">\n",
       "  <thead>\n",
       "    <tr style=\"text-align: right;\">\n",
       "      <th></th>\n",
       "      <th>Purchase Address</th>\n",
       "      <th>City (State)</th>\n",
       "    </tr>\n",
       "  </thead>\n",
       "  <tbody>\n",
       "    <tr>\n",
       "      <th>0</th>\n",
       "      <td>917 1st St, Dallas, TX 75001</td>\n",
       "      <td>Dallas (TX)</td>\n",
       "    </tr>\n",
       "    <tr>\n",
       "      <th>2</th>\n",
       "      <td>682 Chestnut St, Boston, MA 02215</td>\n",
       "      <td>Boston (MA)</td>\n",
       "    </tr>\n",
       "    <tr>\n",
       "      <th>3</th>\n",
       "      <td>669 Spruce St, Los Angeles, CA 90001</td>\n",
       "      <td>Los Angeles (CA)</td>\n",
       "    </tr>\n",
       "    <tr>\n",
       "      <th>4</th>\n",
       "      <td>669 Spruce St, Los Angeles, CA 90001</td>\n",
       "      <td>Los Angeles (CA)</td>\n",
       "    </tr>\n",
       "    <tr>\n",
       "      <th>5</th>\n",
       "      <td>333 8th St, Los Angeles, CA 90001</td>\n",
       "      <td>Los Angeles (CA)</td>\n",
       "    </tr>\n",
       "  </tbody>\n",
       "</table>\n",
       "</div>"
      ],
      "text/plain": [
       "                       Purchase Address       City (State)\n",
       "0          917 1st St, Dallas, TX 75001        Dallas (TX)\n",
       "2     682 Chestnut St, Boston, MA 02215        Boston (MA)\n",
       "3  669 Spruce St, Los Angeles, CA 90001   Los Angeles (CA)\n",
       "4  669 Spruce St, Los Angeles, CA 90001   Los Angeles (CA)\n",
       "5     333 8th St, Los Angeles, CA 90001   Los Angeles (CA)"
      ]
     },
     "execution_count": 19,
     "metadata": {},
     "output_type": "execute_result"
    }
   ],
   "source": [
    "# Creating functions to get city and state\n",
    "def get_city(purchase_address):\n",
    "    return purchase_address.split(',')[1]\n",
    "def get_state(purchase_address):\n",
    "    return purchase_address.split(',')[2].split(' ')[1]\n",
    "\n",
    "# Applying the functions to a new 'City (State)' column\n",
    "sales_df['City (State)'] = sales_df['Purchase Address'].apply(lambda x: f'{get_city(x)} ({get_state(x)})')\n",
    "sales_df[['Purchase Address', 'City (State)']].head()"
   ]
  },
  {
   "cell_type": "markdown",
   "id": "6edaf42d-2ea5-4eff-a96a-7945a00102ae",
   "metadata": {},
   "source": [
    "Wonderful, which columns do you like better? 'City' or 'City (State)'? <br>\n",
    "Doesn't matter really, we can use either one or both anytime we want. <br>\n",
    "Now, to answer the question in hand."
   ]
  },
  {
   "cell_type": "code",
   "execution_count": 20,
   "id": "f8a8623d-b59b-459f-a2f5-52c78ec150d7",
   "metadata": {},
   "outputs": [
    {
     "data": {
      "text/html": [
       "<div>\n",
       "<style scoped>\n",
       "    .dataframe tbody tr th:only-of-type {\n",
       "        vertical-align: middle;\n",
       "    }\n",
       "\n",
       "    .dataframe tbody tr th {\n",
       "        vertical-align: top;\n",
       "    }\n",
       "\n",
       "    .dataframe thead th {\n",
       "        text-align: right;\n",
       "    }\n",
       "</style>\n",
       "<table border=\"1\" class=\"dataframe\">\n",
       "  <thead>\n",
       "    <tr style=\"text-align: right;\">\n",
       "      <th></th>\n",
       "      <th>Order ID</th>\n",
       "      <th>Quantity Ordered</th>\n",
       "      <th>Price Each</th>\n",
       "      <th>Month</th>\n",
       "      <th>Sales</th>\n",
       "    </tr>\n",
       "    <tr>\n",
       "      <th>City (State)</th>\n",
       "      <th></th>\n",
       "      <th></th>\n",
       "      <th></th>\n",
       "      <th></th>\n",
       "      <th></th>\n",
       "    </tr>\n",
       "  </thead>\n",
       "  <tbody>\n",
       "    <tr>\n",
       "      <th>San Francisco (CA)</th>\n",
       "      <td>1.028721e+10</td>\n",
       "      <td>50169</td>\n",
       "      <td>8204001.38</td>\n",
       "      <td>314949</td>\n",
       "      <td>8254743.55</td>\n",
       "    </tr>\n",
       "    <tr>\n",
       "      <th>Los Angeles (CA)</th>\n",
       "      <td>6.801454e+09</td>\n",
       "      <td>33247</td>\n",
       "      <td>5417171.70</td>\n",
       "      <td>208020</td>\n",
       "      <td>5448304.28</td>\n",
       "    </tr>\n",
       "    <tr>\n",
       "      <th>New York City (NY)</th>\n",
       "      <td>5.729940e+09</td>\n",
       "      <td>27903</td>\n",
       "      <td>4632920.54</td>\n",
       "      <td>175557</td>\n",
       "      <td>4661867.14</td>\n",
       "    </tr>\n",
       "    <tr>\n",
       "      <th>Boston (MA)</th>\n",
       "      <td>4.590961e+09</td>\n",
       "      <td>22494</td>\n",
       "      <td>3634398.40</td>\n",
       "      <td>140898</td>\n",
       "      <td>3658627.65</td>\n",
       "    </tr>\n",
       "    <tr>\n",
       "      <th>Atlanta (GA)</th>\n",
       "      <td>3.419485e+09</td>\n",
       "      <td>16584</td>\n",
       "      <td>2778608.69</td>\n",
       "      <td>104649</td>\n",
       "      <td>2794199.07</td>\n",
       "    </tr>\n",
       "    <tr>\n",
       "      <th>Dallas (TX)</th>\n",
       "      <td>3.410206e+09</td>\n",
       "      <td>16707</td>\n",
       "      <td>2750026.38</td>\n",
       "      <td>104447</td>\n",
       "      <td>2765373.96</td>\n",
       "    </tr>\n",
       "    <tr>\n",
       "      <th>Seattle (WA)</th>\n",
       "      <td>3.402481e+09</td>\n",
       "      <td>16534</td>\n",
       "      <td>2730586.55</td>\n",
       "      <td>104817</td>\n",
       "      <td>2745046.02</td>\n",
       "    </tr>\n",
       "    <tr>\n",
       "      <th>Portland (OR)</th>\n",
       "      <td>2.302544e+09</td>\n",
       "      <td>11291</td>\n",
       "      <td>1859836.44</td>\n",
       "      <td>70517</td>\n",
       "      <td>1870010.56</td>\n",
       "    </tr>\n",
       "    <tr>\n",
       "      <th>Austin (TX)</th>\n",
       "      <td>2.277506e+09</td>\n",
       "      <td>11137</td>\n",
       "      <td>1808340.03</td>\n",
       "      <td>69720</td>\n",
       "      <td>1818044.33</td>\n",
       "    </tr>\n",
       "    <tr>\n",
       "      <th>Portland (ME)</th>\n",
       "      <td>5.623828e+08</td>\n",
       "      <td>2746</td>\n",
       "      <td>446752.36</td>\n",
       "      <td>17119</td>\n",
       "      <td>449321.38</td>\n",
       "    </tr>\n",
       "  </tbody>\n",
       "</table>\n",
       "</div>"
      ],
      "text/plain": [
       "                         Order ID  Quantity Ordered  Price Each   Month  \\\n",
       "City (State)                                                              \n",
       " San Francisco (CA)  1.028721e+10             50169  8204001.38  314949   \n",
       " Los Angeles (CA)    6.801454e+09             33247  5417171.70  208020   \n",
       " New York City (NY)  5.729940e+09             27903  4632920.54  175557   \n",
       " Boston (MA)         4.590961e+09             22494  3634398.40  140898   \n",
       " Atlanta (GA)        3.419485e+09             16584  2778608.69  104649   \n",
       " Dallas (TX)         3.410206e+09             16707  2750026.38  104447   \n",
       " Seattle (WA)        3.402481e+09             16534  2730586.55  104817   \n",
       " Portland (OR)       2.302544e+09             11291  1859836.44   70517   \n",
       " Austin (TX)         2.277506e+09             11137  1808340.03   69720   \n",
       " Portland (ME)       5.623828e+08              2746   446752.36   17119   \n",
       "\n",
       "                          Sales  \n",
       "City (State)                     \n",
       " San Francisco (CA)  8254743.55  \n",
       " Los Angeles (CA)    5448304.28  \n",
       " New York City (NY)  4661867.14  \n",
       " Boston (MA)         3658627.65  \n",
       " Atlanta (GA)        2794199.07  \n",
       " Dallas (TX)         2765373.96  \n",
       " Seattle (WA)        2745046.02  \n",
       " Portland (OR)       1870010.56  \n",
       " Austin (TX)         1818044.33  \n",
       " Portland (ME)        449321.38  "
      ]
     },
     "execution_count": 20,
     "metadata": {},
     "output_type": "execute_result"
    }
   ],
   "source": [
    "# Same principle as the previous question, but we'll use the 'City (State)'\n",
    "sales_df.groupby(['City (State)']).sum()\n",
    "# Now, for table viewing, let's sort the 'Sales' values descendingly\n",
    "sales_df.groupby(['City (State)']).sum().sort_values(by = 'Sales', ascending = False)"
   ]
  },
  {
   "cell_type": "markdown",
   "id": "abc39616-bcb6-4b23-9389-c21aa2e37894",
   "metadata": {},
   "source": [
    "So the city with the highest sales revenue is San Fransisco, followed with Los Angeles and New York City.<br>\n",
    "But it's difficult to imagine the numbers' comparison, that's where the visualization comes in."
   ]
  },
  {
   "cell_type": "code",
   "execution_count": 21,
   "id": "edff7625-726d-44e7-a5c3-3b9eacc5066b",
   "metadata": {},
   "outputs": [
    {
     "data": {
      "image/png": "[encoded data removed]",
      "text/plain": [
       "<Figure size 648x504 with 1 Axes>"
      ]
     },
     "metadata": {
      "needs_background": "light"
     },
     "output_type": "display_data"
    }
   ],
   "source": [
    "# Creating bar chart of total sales per city \n",
    "cities = [city for city, df in sales_df.groupby(['City (State)'])]\n",
    "plt.rcParams[\"figure.figsize\"] = [9, 7]\n",
    "plt.rcParams[\"figure.autolayout\"] = True\n",
    "plt.bar(cities, sales_df.groupby(['City (State)']).sum()['Sales'])\n",
    "plt.xticks(cities, rotation = 'vertical', size = 10)\n",
    "plt.title('2019 Revenue Sales per City Bar Chart')\n",
    "plt.xlabel('Product')\n",
    "plt.ylabel('Sales (US$)')\n",
    "plt.show()"
   ]
  },
  {
   "cell_type": "markdown",
   "id": "1e793ac1-706f-4101-8210-8ac91e22d57d",
   "metadata": {},
   "source": [
    "One extra thought, I strongly believe that the city size and population greatly affects the sales sum. It makes perfect sense, though we have to analyze it further to figure out how strong the correlation is. <br>\n",
    "Again, we can expand our exploration and data digging further just from this question. But for now, let's leave it as it is."
   ]
  },
  {
   "cell_type": "markdown",
   "id": "ee4fd07c-5b10-4c16-9465-f88fff8ddb13",
   "metadata": {},
   "source": [
    "#### 5.3. Based on the 2019 data, what is the ideal time of the day (or time range) to push advertisements?"
   ]
  },
  {
   "cell_type": "markdown",
   "id": "6e811408-af4b-4054-8843-ec8307428252",
   "metadata": {},
   "source": [
    "This question's interesting, when should we display our advertisements of our service and products to maximize the likelihood of customers buying products?"
   ]
  },
  {
   "cell_type": "markdown",
   "id": "51fd3aec-379a-4e1f-b564-8ab6bfa32fdc",
   "metadata": {},
   "source": [
    "First of all, let's add 'Hour', 'Minute', and 'Count' to the columns. The 'Count' will be filled with value of 1, useful for when we want to sum or aggregate the sales count in a specified period of time, for example; In Dallas (TX), the average sales in the (6 - 12) PM time range is 200 daily, considerably higher compared to the rest of the day. You get the idea."
   ]
  },
  {
   "cell_type": "code",
   "execution_count": 22,
   "id": "2476d28c-6a4d-4259-9d6c-a2b77685320d",
   "metadata": {},
   "outputs": [
    {
     "data": {
      "text/html": [
       "<div>\n",
       "<style scoped>\n",
       "    .dataframe tbody tr th:only-of-type {\n",
       "        vertical-align: middle;\n",
       "    }\n",
       "\n",
       "    .dataframe tbody tr th {\n",
       "        vertical-align: top;\n",
       "    }\n",
       "\n",
       "    .dataframe thead th {\n",
       "        text-align: right;\n",
       "    }\n",
       "</style>\n",
       "<table border=\"1\" class=\"dataframe\">\n",
       "  <thead>\n",
       "    <tr style=\"text-align: right;\">\n",
       "      <th></th>\n",
       "      <th>Order ID</th>\n",
       "      <th>Product</th>\n",
       "      <th>Quantity Ordered</th>\n",
       "      <th>Price Each</th>\n",
       "      <th>Order Date</th>\n",
       "      <th>Purchase Address</th>\n",
       "      <th>Month</th>\n",
       "      <th>Sales</th>\n",
       "      <th>City</th>\n",
       "      <th>City (State)</th>\n",
       "      <th>Order Date (Converted)</th>\n",
       "    </tr>\n",
       "  </thead>\n",
       "  <tbody>\n",
       "    <tr>\n",
       "      <th>0</th>\n",
       "      <td>176558</td>\n",
       "      <td>USB-C Charging Cable</td>\n",
       "      <td>2</td>\n",
       "      <td>11.95</td>\n",
       "      <td>04/19/19 08:46</td>\n",
       "      <td>917 1st St, Dallas, TX 75001</td>\n",
       "      <td>4</td>\n",
       "      <td>23.90</td>\n",
       "      <td>Dallas</td>\n",
       "      <td>Dallas (TX)</td>\n",
       "      <td>2019-04-19 08:46:00</td>\n",
       "    </tr>\n",
       "    <tr>\n",
       "      <th>2</th>\n",
       "      <td>176559</td>\n",
       "      <td>Bose SoundSport Headphones</td>\n",
       "      <td>1</td>\n",
       "      <td>99.99</td>\n",
       "      <td>04/07/19 22:30</td>\n",
       "      <td>682 Chestnut St, Boston, MA 02215</td>\n",
       "      <td>4</td>\n",
       "      <td>99.99</td>\n",
       "      <td>Boston</td>\n",
       "      <td>Boston (MA)</td>\n",
       "      <td>2019-04-07 22:30:00</td>\n",
       "    </tr>\n",
       "    <tr>\n",
       "      <th>3</th>\n",
       "      <td>176560</td>\n",
       "      <td>Google Phone</td>\n",
       "      <td>1</td>\n",
       "      <td>600.00</td>\n",
       "      <td>04/12/19 14:38</td>\n",
       "      <td>669 Spruce St, Los Angeles, CA 90001</td>\n",
       "      <td>4</td>\n",
       "      <td>600.00</td>\n",
       "      <td>Los Angeles</td>\n",
       "      <td>Los Angeles (CA)</td>\n",
       "      <td>2019-04-12 14:38:00</td>\n",
       "    </tr>\n",
       "    <tr>\n",
       "      <th>4</th>\n",
       "      <td>176560</td>\n",
       "      <td>Wired Headphones</td>\n",
       "      <td>1</td>\n",
       "      <td>11.99</td>\n",
       "      <td>04/12/19 14:38</td>\n",
       "      <td>669 Spruce St, Los Angeles, CA 90001</td>\n",
       "      <td>4</td>\n",
       "      <td>11.99</td>\n",
       "      <td>Los Angeles</td>\n",
       "      <td>Los Angeles (CA)</td>\n",
       "      <td>2019-04-12 14:38:00</td>\n",
       "    </tr>\n",
       "    <tr>\n",
       "      <th>5</th>\n",
       "      <td>176561</td>\n",
       "      <td>Wired Headphones</td>\n",
       "      <td>1</td>\n",
       "      <td>11.99</td>\n",
       "      <td>04/30/19 09:27</td>\n",
       "      <td>333 8th St, Los Angeles, CA 90001</td>\n",
       "      <td>4</td>\n",
       "      <td>11.99</td>\n",
       "      <td>Los Angeles</td>\n",
       "      <td>Los Angeles (CA)</td>\n",
       "      <td>2019-04-30 09:27:00</td>\n",
       "    </tr>\n",
       "  </tbody>\n",
       "</table>\n",
       "</div>"
      ],
      "text/plain": [
       "   Order ID                     Product  Quantity Ordered  Price Each  \\\n",
       "0    176558        USB-C Charging Cable                 2       11.95   \n",
       "2    176559  Bose SoundSport Headphones                 1       99.99   \n",
       "3    176560                Google Phone                 1      600.00   \n",
       "4    176560            Wired Headphones                 1       11.99   \n",
       "5    176561            Wired Headphones                 1       11.99   \n",
       "\n",
       "       Order Date                      Purchase Address  Month   Sales  \\\n",
       "0  04/19/19 08:46          917 1st St, Dallas, TX 75001      4   23.90   \n",
       "2  04/07/19 22:30     682 Chestnut St, Boston, MA 02215      4   99.99   \n",
       "3  04/12/19 14:38  669 Spruce St, Los Angeles, CA 90001      4  600.00   \n",
       "4  04/12/19 14:38  669 Spruce St, Los Angeles, CA 90001      4   11.99   \n",
       "5  04/30/19 09:27     333 8th St, Los Angeles, CA 90001      4   11.99   \n",
       "\n",
       "           City       City (State) Order Date (Converted)  \n",
       "0        Dallas        Dallas (TX)    2019-04-19 08:46:00  \n",
       "2        Boston        Boston (MA)    2019-04-07 22:30:00  \n",
       "3   Los Angeles   Los Angeles (CA)    2019-04-12 14:38:00  \n",
       "4   Los Angeles   Los Angeles (CA)    2019-04-12 14:38:00  \n",
       "5   Los Angeles   Los Angeles (CA)    2019-04-30 09:27:00  "
      ]
     },
     "execution_count": 22,
     "metadata": {},
     "output_type": "execute_result"
    }
   ],
   "source": [
    "# Adding 'Order Date (Converted)' column, basically changing the data type to datetime format\n",
    "sales_df['Order Date (Converted)'] = pd.to_datetime(sales_df['Order Date'])\n",
    "sales_df.head()"
   ]
  },
  {
   "cell_type": "code",
   "execution_count": 23,
   "id": "a4a88921-eae7-400d-889c-1eb274a3044a",
   "metadata": {},
   "outputs": [
    {
     "data": {
      "text/html": [
       "<div>\n",
       "<style scoped>\n",
       "    .dataframe tbody tr th:only-of-type {\n",
       "        vertical-align: middle;\n",
       "    }\n",
       "\n",
       "    .dataframe tbody tr th {\n",
       "        vertical-align: top;\n",
       "    }\n",
       "\n",
       "    .dataframe thead th {\n",
       "        text-align: right;\n",
       "    }\n",
       "</style>\n",
       "<table border=\"1\" class=\"dataframe\">\n",
       "  <thead>\n",
       "    <tr style=\"text-align: right;\">\n",
       "      <th></th>\n",
       "      <th>Order ID</th>\n",
       "      <th>Product</th>\n",
       "      <th>Quantity Ordered</th>\n",
       "      <th>Price Each</th>\n",
       "      <th>Order Date</th>\n",
       "      <th>Purchase Address</th>\n",
       "      <th>Month</th>\n",
       "      <th>Sales</th>\n",
       "      <th>City</th>\n",
       "      <th>City (State)</th>\n",
       "      <th>Order Date (Converted)</th>\n",
       "      <th>Hour</th>\n",
       "      <th>Minute</th>\n",
       "      <th>Count</th>\n",
       "    </tr>\n",
       "  </thead>\n",
       "  <tbody>\n",
       "    <tr>\n",
       "      <th>0</th>\n",
       "      <td>176558</td>\n",
       "      <td>USB-C Charging Cable</td>\n",
       "      <td>2</td>\n",
       "      <td>11.95</td>\n",
       "      <td>04/19/19 08:46</td>\n",
       "      <td>917 1st St, Dallas, TX 75001</td>\n",
       "      <td>4</td>\n",
       "      <td>23.90</td>\n",
       "      <td>Dallas</td>\n",
       "      <td>Dallas (TX)</td>\n",
       "      <td>2019-04-19 08:46:00</td>\n",
       "      <td>8</td>\n",
       "      <td>46</td>\n",
       "      <td>1</td>\n",
       "    </tr>\n",
       "    <tr>\n",
       "      <th>2</th>\n",
       "      <td>176559</td>\n",
       "      <td>Bose SoundSport Headphones</td>\n",
       "      <td>1</td>\n",
       "      <td>99.99</td>\n",
       "      <td>04/07/19 22:30</td>\n",
       "      <td>682 Chestnut St, Boston, MA 02215</td>\n",
       "      <td>4</td>\n",
       "      <td>99.99</td>\n",
       "      <td>Boston</td>\n",
       "      <td>Boston (MA)</td>\n",
       "      <td>2019-04-07 22:30:00</td>\n",
       "      <td>22</td>\n",
       "      <td>30</td>\n",
       "      <td>1</td>\n",
       "    </tr>\n",
       "    <tr>\n",
       "      <th>3</th>\n",
       "      <td>176560</td>\n",
       "      <td>Google Phone</td>\n",
       "      <td>1</td>\n",
       "      <td>600.00</td>\n",
       "      <td>04/12/19 14:38</td>\n",
       "      <td>669 Spruce St, Los Angeles, CA 90001</td>\n",
       "      <td>4</td>\n",
       "      <td>600.00</td>\n",
       "      <td>Los Angeles</td>\n",
       "      <td>Los Angeles (CA)</td>\n",
       "      <td>2019-04-12 14:38:00</td>\n",
       "      <td>14</td>\n",
       "      <td>38</td>\n",
       "      <td>1</td>\n",
       "    </tr>\n",
       "    <tr>\n",
       "      <th>4</th>\n",
       "      <td>176560</td>\n",
       "      <td>Wired Headphones</td>\n",
       "      <td>1</td>\n",
       "      <td>11.99</td>\n",
       "      <td>04/12/19 14:38</td>\n",
       "      <td>669 Spruce St, Los Angeles, CA 90001</td>\n",
       "      <td>4</td>\n",
       "      <td>11.99</td>\n",
       "      <td>Los Angeles</td>\n",
       "      <td>Los Angeles (CA)</td>\n",
       "      <td>2019-04-12 14:38:00</td>\n",
       "      <td>14</td>\n",
       "      <td>38</td>\n",
       "      <td>1</td>\n",
       "    </tr>\n",
       "    <tr>\n",
       "      <th>5</th>\n",
       "      <td>176561</td>\n",
       "      <td>Wired Headphones</td>\n",
       "      <td>1</td>\n",
       "      <td>11.99</td>\n",
       "      <td>04/30/19 09:27</td>\n",
       "      <td>333 8th St, Los Angeles, CA 90001</td>\n",
       "      <td>4</td>\n",
       "      <td>11.99</td>\n",
       "      <td>Los Angeles</td>\n",
       "      <td>Los Angeles (CA)</td>\n",
       "      <td>2019-04-30 09:27:00</td>\n",
       "      <td>9</td>\n",
       "      <td>27</td>\n",
       "      <td>1</td>\n",
       "    </tr>\n",
       "  </tbody>\n",
       "</table>\n",
       "</div>"
      ],
      "text/plain": [
       "   Order ID                     Product  Quantity Ordered  Price Each  \\\n",
       "0    176558        USB-C Charging Cable                 2       11.95   \n",
       "2    176559  Bose SoundSport Headphones                 1       99.99   \n",
       "3    176560                Google Phone                 1      600.00   \n",
       "4    176560            Wired Headphones                 1       11.99   \n",
       "5    176561            Wired Headphones                 1       11.99   \n",
       "\n",
       "       Order Date                      Purchase Address  Month   Sales  \\\n",
       "0  04/19/19 08:46          917 1st St, Dallas, TX 75001      4   23.90   \n",
       "2  04/07/19 22:30     682 Chestnut St, Boston, MA 02215      4   99.99   \n",
       "3  04/12/19 14:38  669 Spruce St, Los Angeles, CA 90001      4  600.00   \n",
       "4  04/12/19 14:38  669 Spruce St, Los Angeles, CA 90001      4   11.99   \n",
       "5  04/30/19 09:27     333 8th St, Los Angeles, CA 90001      4   11.99   \n",
       "\n",
       "           City       City (State) Order Date (Converted)  Hour  Minute  Count  \n",
       "0        Dallas        Dallas (TX)    2019-04-19 08:46:00     8      46      1  \n",
       "2        Boston        Boston (MA)    2019-04-07 22:30:00    22      30      1  \n",
       "3   Los Angeles   Los Angeles (CA)    2019-04-12 14:38:00    14      38      1  \n",
       "4   Los Angeles   Los Angeles (CA)    2019-04-12 14:38:00    14      38      1  \n",
       "5   Los Angeles   Los Angeles (CA)    2019-04-30 09:27:00     9      27      1  "
      ]
     },
     "execution_count": 23,
     "metadata": {},
     "output_type": "execute_result"
    }
   ],
   "source": [
    "# Notice the newest column, now we just extract the hour and minute to new columns\n",
    "sales_df['Hour'] = sales_df['Order Date (Converted)'].dt.hour\n",
    "sales_df['Minute'] = sales_df['Order Date (Converted)'].dt.minute\n",
    "sales_df['Count'] = 1\n",
    "sales_df.head()"
   ]
  },
  {
   "cell_type": "markdown",
   "id": "ee6a73db-87f1-437a-9fa0-1b09607e84fe",
   "metadata": {},
   "source": [
    "There it is, new columns containing individual data. In this case from datetime to hour, minute, and count (for counting/analysis purpose of course). <br>\n",
    "We can't answer the question just from looking at the table, let's make a line plot graph to see total sales based on the 24 hour frametime."
   ]
  },
  {
   "cell_type": "code",
   "execution_count": 24,
   "id": "5380597b-5224-4c72-81c2-27d6eff8e174",
   "metadata": {},
   "outputs": [
    {
     "data": {
      "image/png": "[encoded data removed]",
      "text/plain": [
       "<Figure size 648x504 with 1 Axes>"
      ]
     },
     "metadata": {
      "needs_background": "light"
     },
     "output_type": "display_data"
    }
   ],
   "source": [
    "# Setting up the line plot, basically a copy paste from the previous visualization with modifications\n",
    "hour_time = [pair for pair, df in sales_df.groupby(['Hour'])]\n",
    "plt.rcParams[\"figure.figsize\"] = [9, 7]\n",
    "plt.rcParams[\"figure.autolayout\"] = True\n",
    "plt.plot(hour_time, sales_df.groupby(['Hour']).count()['Count'])\n",
    "plt.xticks(hour_time)\n",
    "plt.title('2019 Total Sales Transaction Time Line Plot')\n",
    "plt.xlabel('Hour')\n",
    "plt.ylabel('Sales Count')\n",
    "plt.grid()\n",
    "plt.show()"
   ]
  },
  {
   "cell_type": "markdown",
   "id": "45a6c41d-15ba-4eff-8323-9276a341d9e1",
   "metadata": {},
   "source": [
    "There, we can decide what time frame we should use to display our ads. Personally, I'd consider 10 AM and 6 PM to push the ads. <br>\n",
    "We also have to remember, the Sales Count is number of total sales in every 1 hour increment from the WHOLE year data and all cities. We might want to dig in on how the time focused buying trend differ from one month to another. Heck, I'm sure every city's active buying time will also be different, at different level of margins."
   ]
  },
  {
   "cell_type": "markdown",
   "id": "822e396e-ade7-402e-a24b-8cd009711ca3",
   "metadata": {},
   "source": [
    "#### 5.4. What are the most often 'sold together' products? "
   ]
  },
  {
   "cell_type": "markdown",
   "id": "7ee36c58-0b2f-40e3-9b6b-e26c8bea04b7",
   "metadata": {},
   "source": [
    "Before we jump right to answer the question, you need to understand this:"
   ]
  },
  {
   "cell_type": "code",
   "execution_count": 25,
   "id": "702dd2c3-a939-40bb-8b39-eb2d3a1717e2",
   "metadata": {},
   "outputs": [
    {
     "data": {
      "text/html": [
       "<div>\n",
       "<style scoped>\n",
       "    .dataframe tbody tr th:only-of-type {\n",
       "        vertical-align: middle;\n",
       "    }\n",
       "\n",
       "    .dataframe tbody tr th {\n",
       "        vertical-align: top;\n",
       "    }\n",
       "\n",
       "    .dataframe thead th {\n",
       "        text-align: right;\n",
       "    }\n",
       "</style>\n",
       "<table border=\"1\" class=\"dataframe\">\n",
       "  <thead>\n",
       "    <tr style=\"text-align: right;\">\n",
       "      <th></th>\n",
       "      <th>Order ID</th>\n",
       "      <th>Product</th>\n",
       "      <th>Quantity Ordered</th>\n",
       "    </tr>\n",
       "  </thead>\n",
       "  <tbody>\n",
       "    <tr>\n",
       "      <th>3</th>\n",
       "      <td>176560</td>\n",
       "      <td>Google Phone</td>\n",
       "      <td>1</td>\n",
       "    </tr>\n",
       "    <tr>\n",
       "      <th>4</th>\n",
       "      <td>176560</td>\n",
       "      <td>Wired Headphones</td>\n",
       "      <td>1</td>\n",
       "    </tr>\n",
       "    <tr>\n",
       "      <th>18</th>\n",
       "      <td>176574</td>\n",
       "      <td>Google Phone</td>\n",
       "      <td>1</td>\n",
       "    </tr>\n",
       "    <tr>\n",
       "      <th>19</th>\n",
       "      <td>176574</td>\n",
       "      <td>USB-C Charging Cable</td>\n",
       "      <td>1</td>\n",
       "    </tr>\n",
       "    <tr>\n",
       "      <th>32</th>\n",
       "      <td>176586</td>\n",
       "      <td>AAA Batteries (4-pack)</td>\n",
       "      <td>2</td>\n",
       "    </tr>\n",
       "    <tr>\n",
       "      <th>...</th>\n",
       "      <td>...</td>\n",
       "      <td>...</td>\n",
       "      <td>...</td>\n",
       "    </tr>\n",
       "    <tr>\n",
       "      <th>186792</th>\n",
       "      <td>259303</td>\n",
       "      <td>AA Batteries (4-pack)</td>\n",
       "      <td>1</td>\n",
       "    </tr>\n",
       "    <tr>\n",
       "      <th>186803</th>\n",
       "      <td>259314</td>\n",
       "      <td>Wired Headphones</td>\n",
       "      <td>1</td>\n",
       "    </tr>\n",
       "    <tr>\n",
       "      <th>186804</th>\n",
       "      <td>259314</td>\n",
       "      <td>AAA Batteries (4-pack)</td>\n",
       "      <td>2</td>\n",
       "    </tr>\n",
       "    <tr>\n",
       "      <th>186841</th>\n",
       "      <td>259350</td>\n",
       "      <td>Google Phone</td>\n",
       "      <td>1</td>\n",
       "    </tr>\n",
       "    <tr>\n",
       "      <th>186842</th>\n",
       "      <td>259350</td>\n",
       "      <td>USB-C Charging Cable</td>\n",
       "      <td>1</td>\n",
       "    </tr>\n",
       "  </tbody>\n",
       "</table>\n",
       "<p>14128 rows × 3 columns</p>\n",
       "</div>"
      ],
      "text/plain": [
       "        Order ID                 Product  Quantity Ordered\n",
       "3         176560            Google Phone                 1\n",
       "4         176560        Wired Headphones                 1\n",
       "18        176574            Google Phone                 1\n",
       "19        176574    USB-C Charging Cable                 1\n",
       "32        176586  AAA Batteries (4-pack)                 2\n",
       "...          ...                     ...               ...\n",
       "186792    259303   AA Batteries (4-pack)                 1\n",
       "186803    259314        Wired Headphones                 1\n",
       "186804    259314  AAA Batteries (4-pack)                 2\n",
       "186841    259350            Google Phone                 1\n",
       "186842    259350    USB-C Charging Cable                 1\n",
       "\n",
       "[14128 rows x 3 columns]"
      ]
     },
     "execution_count": 25,
     "metadata": {},
     "output_type": "execute_result"
    }
   ],
   "source": [
    "# Showing rows of data with duplicated 'Order ID'\n",
    "duplicate_order_id_df = sales_df[sales_df['Order ID'].duplicated(keep = False)] # Stupid long naming, but just so everyone can understand\n",
    "duplicate_order_id_df[['Order ID','Product', 'Quantity Ordered']]"
   ]
  },
  {
   "cell_type": "markdown",
   "id": "48b1db2f-4f2a-4551-bf1c-e1770e7ba28f",
   "metadata": {},
   "source": [
    "What this means? Well every row displays only a specific product sold (and how many), while Order ID meaning the reference ID of every transaction. Every transaction can have 1 or more products sold. <br>\n",
    "So for duplicated Order IDs, it isn't a mistake, as it just so happens that the data lists every row containing a single product sold only."
   ]
  },
  {
   "cell_type": "code",
   "execution_count": 26,
   "id": "832d07a8-9ef0-4384-94be-354ec734858c",
   "metadata": {},
   "outputs": [
    {
     "name": "stderr",
     "output_type": "stream",
     "text": [
      "C:\\Users\\edric\\AppData\\Local\\Temp\\ipykernel_9776\\983226646.py:2: SettingWithCopyWarning: \n",
      "A value is trying to be set on a copy of a slice from a DataFrame.\n",
      "Try using .loc[row_indexer,col_indexer] = value instead\n",
      "\n",
      "See the caveats in the documentation: https://pandas.pydata.org/pandas-docs/stable/user_guide/indexing.html#returning-a-view-versus-a-copy\n",
      "  duplicate_order_id_df['Product Combo'] = duplicate_order_id_df.groupby('Order ID')['Product'].transform(lambda x: ', '.join(x))\n"
     ]
    },
    {
     "data": {
      "text/html": [
       "<div>\n",
       "<style scoped>\n",
       "    .dataframe tbody tr th:only-of-type {\n",
       "        vertical-align: middle;\n",
       "    }\n",
       "\n",
       "    .dataframe tbody tr th {\n",
       "        vertical-align: top;\n",
       "    }\n",
       "\n",
       "    .dataframe thead th {\n",
       "        text-align: right;\n",
       "    }\n",
       "</style>\n",
       "<table border=\"1\" class=\"dataframe\">\n",
       "  <thead>\n",
       "    <tr style=\"text-align: right;\">\n",
       "      <th></th>\n",
       "      <th>Order ID</th>\n",
       "      <th>Product Combo</th>\n",
       "    </tr>\n",
       "  </thead>\n",
       "  <tbody>\n",
       "    <tr>\n",
       "      <th>3</th>\n",
       "      <td>176560</td>\n",
       "      <td>Google Phone, Wired Headphones</td>\n",
       "    </tr>\n",
       "    <tr>\n",
       "      <th>18</th>\n",
       "      <td>176574</td>\n",
       "      <td>Google Phone, USB-C Charging Cable</td>\n",
       "    </tr>\n",
       "    <tr>\n",
       "      <th>32</th>\n",
       "      <td>176586</td>\n",
       "      <td>AAA Batteries (4-pack), Google Phone</td>\n",
       "    </tr>\n",
       "    <tr>\n",
       "      <th>119</th>\n",
       "      <td>176672</td>\n",
       "      <td>Lightning Charging Cable, USB-C Charging Cable</td>\n",
       "    </tr>\n",
       "    <tr>\n",
       "      <th>129</th>\n",
       "      <td>176681</td>\n",
       "      <td>Apple Airpods Headphones, ThinkPad Laptop</td>\n",
       "    </tr>\n",
       "    <tr>\n",
       "      <th>...</th>\n",
       "      <td>...</td>\n",
       "      <td>...</td>\n",
       "    </tr>\n",
       "    <tr>\n",
       "      <th>186761</th>\n",
       "      <td>259277</td>\n",
       "      <td>iPhone, Wired Headphones</td>\n",
       "    </tr>\n",
       "    <tr>\n",
       "      <th>186783</th>\n",
       "      <td>259297</td>\n",
       "      <td>iPhone, Lightning Charging Cable</td>\n",
       "    </tr>\n",
       "    <tr>\n",
       "      <th>186791</th>\n",
       "      <td>259303</td>\n",
       "      <td>34in Ultrawide Monitor, AA Batteries (4-pack)</td>\n",
       "    </tr>\n",
       "    <tr>\n",
       "      <th>186803</th>\n",
       "      <td>259314</td>\n",
       "      <td>Wired Headphones, AAA Batteries (4-pack)</td>\n",
       "    </tr>\n",
       "    <tr>\n",
       "      <th>186841</th>\n",
       "      <td>259350</td>\n",
       "      <td>Google Phone, USB-C Charging Cable</td>\n",
       "    </tr>\n",
       "  </tbody>\n",
       "</table>\n",
       "<p>6879 rows × 2 columns</p>\n",
       "</div>"
      ],
      "text/plain": [
       "        Order ID                                   Product Combo\n",
       "3         176560                  Google Phone, Wired Headphones\n",
       "18        176574              Google Phone, USB-C Charging Cable\n",
       "32        176586            AAA Batteries (4-pack), Google Phone\n",
       "119       176672  Lightning Charging Cable, USB-C Charging Cable\n",
       "129       176681       Apple Airpods Headphones, ThinkPad Laptop\n",
       "...          ...                                             ...\n",
       "186761    259277                        iPhone, Wired Headphones\n",
       "186783    259297                iPhone, Lightning Charging Cable\n",
       "186791    259303   34in Ultrawide Monitor, AA Batteries (4-pack)\n",
       "186803    259314        Wired Headphones, AAA Batteries (4-pack)\n",
       "186841    259350              Google Phone, USB-C Charging Cable\n",
       "\n",
       "[6879 rows x 2 columns]"
      ]
     },
     "execution_count": 26,
     "metadata": {},
     "output_type": "execute_result"
    }
   ],
   "source": [
    "# Combining products sold together based on the Order ID to a new dataframe\n",
    "duplicate_order_id_df['Product Combo'] = duplicate_order_id_df.groupby('Order ID')['Product'].transform(lambda x: ', '.join(x))\n",
    "most_sold_pair_df = duplicate_order_id_df[['Order ID', 'Product Combo']].drop_duplicates()\n",
    "most_sold_pair_df"
   ]
  },
  {
   "cell_type": "markdown",
   "id": "9721cf9b-d177-45b0-b22b-e4c913f435a6",
   "metadata": {},
   "source": [
    "First let's find the top pair combinations of products sold:"
   ]
  },
  {
   "cell_type": "code",
   "execution_count": 27,
   "id": "a708866f-4e31-4704-b927-98f2ced8bccf",
   "metadata": {},
   "outputs": [
    {
     "name": "stdout",
     "output_type": "stream",
     "text": [
      "('iPhone', 'Lightning Charging Cable') 1002\n",
      "('Google Phone', 'USB-C Charging Cable') 985\n",
      "('iPhone', 'Wired Headphones') 447\n",
      "('Google Phone', 'Wired Headphones') 413\n",
      "('Vareebadd Phone', 'USB-C Charging Cable') 361\n",
      "('iPhone', 'Apple Airpods Headphones') 360\n",
      "('Google Phone', 'Bose SoundSport Headphones') 220\n",
      "('USB-C Charging Cable', 'Wired Headphones') 159\n",
      "('Vareebadd Phone', 'Wired Headphones') 143\n",
      "('Lightning Charging Cable', 'Wired Headphones') 92\n"
     ]
    }
   ],
   "source": [
    "# Trying to count different combinations of products and listing out the most common one\n",
    "from itertools import combinations\n",
    "from collections import Counter\n",
    "\n",
    "count = Counter()\n",
    "for row in most_sold_pair_df['Product Combo']:\n",
    "    row_reference = row.split(', ')\n",
    "    count.update(Counter(combinations(row_reference, 2)))\n",
    "\n",
    "for id, content in count.most_common(10):\n",
    "    print(id, content)"
   ]
  },
  {
   "cell_type": "markdown",
   "id": "ace09ac2-7987-4075-831d-b2a1cbdcd142",
   "metadata": {},
   "source": [
    "That was the ten most sold pairings sold, what about triplets? What are the top ten most sold 3 products combination?"
   ]
  },
  {
   "cell_type": "code",
   "execution_count": 28,
   "id": "75a44aa8-be7a-478c-9cf9-e9b94b6ae146",
   "metadata": {},
   "outputs": [
    {
     "name": "stdout",
     "output_type": "stream",
     "text": [
      "('Google Phone', 'USB-C Charging Cable', 'Wired Headphones') 86\n",
      "('iPhone', 'Lightning Charging Cable', 'Wired Headphones') 62\n",
      "('iPhone', 'Lightning Charging Cable', 'Apple Airpods Headphones') 47\n",
      "('Google Phone', 'USB-C Charging Cable', 'Bose SoundSport Headphones') 35\n",
      "('Vareebadd Phone', 'USB-C Charging Cable', 'Wired Headphones') 33\n",
      "('iPhone', 'Apple Airpods Headphones', 'Wired Headphones') 27\n",
      "('Google Phone', 'Bose SoundSport Headphones', 'Wired Headphones') 24\n",
      "('Vareebadd Phone', 'USB-C Charging Cable', 'Bose SoundSport Headphones') 16\n",
      "('USB-C Charging Cable', 'Bose SoundSport Headphones', 'Wired Headphones') 5\n",
      "('Vareebadd Phone', 'Bose SoundSport Headphones', 'Wired Headphones') 5\n"
     ]
    }
   ],
   "source": [
    "# The same as before, but with 3 different products purchased together\n",
    "count = Counter()\n",
    "for row in most_sold_pair_df['Product Combo']:\n",
    "    row_reference = row.split(', ')\n",
    "    count.update(Counter(combinations(row_reference, 3))) # The difference only in the number of combinations function\n",
    "\n",
    "for id, content in count.most_common(10):\n",
    "    print(id, content)"
   ]
  },
  {
   "cell_type": "markdown",
   "id": "532df04d-6cd2-43e3-b34f-926e0d699040",
   "metadata": {},
   "source": [
    "And those are ten most sold combinations of 3 products.<br>\n",
    "We can increase the total product combination, but from my own finding there is nothing above 5 combination of products."
   ]
  },
  {
   "cell_type": "markdown",
   "id": "0ee9960d-04cb-43dd-8fbf-631309f21ee3",
   "metadata": {},
   "source": [
    "Honestly to answer this question, it took longer than I'd like to admit to come up with a working solution. But, a part of being a good programmer or data analyst is to be good at googling your specific needs online. Be it from googling, stack overflow, youtube tutorials, various online forums, and more.. all those are helpful.<br>\n",
    "But mostly stack overflow, now that's the big one. BIG"
   ]
  },
  {
   "cell_type": "markdown",
   "id": "901d4e7e-9549-4e86-9a4c-fa6c1517bb17",
   "metadata": {},
   "source": [
    "#### 5.5. What's the top selling product? And why?"
   ]
  },
  {
   "cell_type": "markdown",
   "id": "c53a2541-f463-41fd-ab52-46e75027f342",
   "metadata": {},
   "source": [
    "By now, you should be able to predict my next move. That's right, we'll begin by rounding the data up based on its product. Let's jump straight to plotting graphs."
   ]
  },
  {
   "cell_type": "code",
   "execution_count": 31,
   "id": "873d89ff-c602-4157-ba17-c4081558ca6c",
   "metadata": {},
   "outputs": [
    {
     "data": {
      "image/png": "[encoded data removed]",
      "text/plain": [
       "<Figure size 648x504 with 1 Axes>"
      ]
     },
     "metadata": {
      "needs_background": "light"
     },
     "output_type": "display_data"
    }
   ],
   "source": [
    "# Let's start by creating a simple bar graph\n",
    "grouped_products = sales_df.groupby('Product')\n",
    "ordered_quants = grouped_products.sum()['Quantity Ordered']\n",
    "\n",
    "keys = [link for link, sales_df in grouped_products]\n",
    "plt.bar(keys, ordered_quants)\n",
    "plt.xticks(keys, rotation = 'vertical', size = 10)\n",
    "plt.title('2019 Total Products Sold')\n",
    "plt.xlabel('Product')\n",
    "plt.ylabel('Quantity')\n",
    "plt.show()"
   ]
  },
  {
   "cell_type": "markdown",
   "id": "8785f395-de62-4f47-9c92-f19cdab3f1d1",
   "metadata": {},
   "source": [
    "Now we can see that two of the most sold products are the batteries packs, followed with the charging cables. Now, why is that? <br>\n",
    "At the very first I came up with a simple hypothesis that the cheaper the product is, the more likely it is to be sold in great quantities. As sure as I am with my theory, it's still that, a hypothesis. One must always test his hypothesis to verify its accuracy."
   ]
  },
  {
   "cell_type": "code",
   "execution_count": 38,
   "id": "ec8d3160-16fe-44fd-a5eb-81d3e7f1b7c5",
   "metadata": {},
   "outputs": [
    {
     "name": "stderr",
     "output_type": "stream",
     "text": [
      "C:\\Users\\edric\\AppData\\Local\\Temp\\ipykernel_9776\\748614207.py:13: UserWarning: FixedFormatter should only be used together with FixedLocator\n",
      "  ax1.set_xticklabels(keys, rotation = 'vertical', size = 10)\n"
     ]
    },
    {
     "data": {
      "image/png": "[encoded data removed]",
      "text/plain": [
       "<Figure size 648x504 with 2 Axes>"
      ]
     },
     "metadata": {
      "needs_background": "light"
     },
     "output_type": "display_data"
    }
   ],
   "source": [
    "# Now, to test my hypothesis, we have to also input the price of products in the same graph\n",
    "individual_prices = sales_df.groupby('Product').mean()['Price Each']\n",
    "\n",
    "fig, ax1 = plt.subplots()\n",
    "\n",
    "ax2 = ax1.twinx()\n",
    "ax1.bar(keys, ordered_quants, color = 'pink')\n",
    "ax2.plot(keys, individual_prices, color = 'green')\n",
    "\n",
    "ax1.set_xlabel('Product')\n",
    "ax1.set_ylabel('Quantity')\n",
    "ax2.set_ylabel('Price (US$)')\n",
    "ax1.set_xticklabels(keys, rotation = 'vertical', size = 10)\n",
    "plt.grid()\n",
    "plt.title('Quantity Ordered - Price Correlation Graph ')\n",
    "plt.show()"
   ]
  },
  {
   "cell_type": "markdown",
   "id": "9c3551f5-7c37-4162-9567-3e2eada7a8ef",
   "metadata": {},
   "source": [
    "So basically my hypothesis would generate a graph that's high in quantity, and low in price, and vice-versa. Looking at the graph, I believe I was correct. But as significant as the price factor could be, we all know that's not the only thing that could generate high sales, don't we? <br>\n",
    "Notice that the Macbook Pro Laptop sales is higher than the ThinkPad Laptop, even though the latter's price is much lower. That means that while it is true that price can greatly affect the sales quantity, other factors also come into play in figuring out what makes a high selling product. For starters, Apple is arguably the most popular electronic brand in the world, so branding definitely counts. Also there are a lot of utilities that use batteries, which means a high demand of batteries packs. And there is much more that we can dig into, but I believe for now, the graph serves my hypothesis well with evidence."
   ]
  },
  {
   "cell_type": "markdown",
   "id": "2c3b16d9-6811-466a-8ead-886e3c7367a6",
   "metadata": {
    "tags": []
   },
   "source": [
    "<br>\n",
    "That's about it, I have to say that it was an adventure and challenging to make this notebook, even for a simple exploration and analysis like this one. I apologize if there is any typo or misspelling, or even there are things you may not agree with. Keep in mind I made this in my free time or more technically, late nights (not really a good idea I know).<br>\n",
    "But the main purpose of this notebook is to showcase my data wrangling skills, my problem solving ability, my general thought process and logic. I could make this notebook much shorter in length, but I also wanted all people to be able to understand what I'm doing, so it's a good practice for my communication skill too."
   ]
  },
  {
   "cell_type": "markdown",
   "id": "d63a346d-47c6-43f6-ad8a-56dd7b5caada",
   "metadata": {},
   "source": [
    "Until next time, sayonara and Godspeed!<br><br>"
   ]
  },
  {
   "cell_type": "markdown",
   "id": "55496557-2c22-4229-ac8e-e7f7ad713aa1",
   "metadata": {},
   "source": [
    "| Date (DD-MM-YYYY) | Author                             |\n",
    "| ----------------- | ---------------------------------- |\n",
    "| 10-11-2022        | Edricnes                           |\n"
   ]
  }
 ],
 "metadata": {
  "kernelspec": {
   "display_name": "Python 3 (ipykernel)",
   "language": "python",
   "name": "python3"
  },
  "language_info": {
   "codemirror_mode": {
    "name": "ipython",
    "version": 3
   },
   "file_extension": ".py",
   "mimetype": "text/x-python",
   "name": "python",
   "nbconvert_exporter": "python",
   "pygments_lexer": "ipython3",
   "version": "3.9.12"
  }
 },
 "nbformat": 4,
 "nbformat_minor": 5
}
